{
  "nbformat": 4,
  "nbformat_minor": 0,
  "metadata": {
    "colab": {
      "provenance": [],
      "authorship_tag": "ABX9TyPcyRcJfZeaWz5DwAH8A0eP",
      "include_colab_link": true
    },
    "kernelspec": {
      "name": "python3",
      "display_name": "Python 3"
    },
    "language_info": {
      "name": "python"
    }
  },
  "cells": [
    {
      "cell_type": "markdown",
      "metadata": {
        "id": "view-in-github",
        "colab_type": "text"
      },
      "source": [
        "<a href=\"https://colab.research.google.com/github/2ovisa/AH2179/blob/main/assignment1.ipynb\" target=\"_parent\"><img src=\"https://colab.research.google.com/assets/colab-badge.svg\" alt=\"Open In Colab\"/></a>"
      ]
    },
    {
      "cell_type": "markdown",
      "source": [
        "#Assignment 1"
      ],
      "metadata": {
        "id": "GtIRk8ljGVfF"
      }
    },
    {
      "cell_type": "markdown",
      "source": [
        "*In this assignment, you will apply regression models to both problems and practice end-to-end model development, parameter tuning, and performance evaluation.*"
      ],
      "metadata": {
        "id": "fFbEdu05Y7z-"
      }
    },
    {
      "cell_type": "markdown",
      "source": [
        "##Task 1: Bus arrival delays"
      ],
      "metadata": {
        "id": "aN7rRXCSYhF9"
      }
    },
    {
      "cell_type": "code",
      "source": [
        "#Code copied from exercise 1\n",
        "import pandas as pd\n",
        "\n",
        "df = pd.read_csv('Exercise2BusData.csv')\n",
        "df.head(10)\n",
        "\n",
        "df = df.iloc[:1000]\n",
        "df = df.drop(['Arrival_time', 'Stop_id', 'Bus_id', 'Line_id'], axis = 1)\n",
        "\n",
        "#y = the variable we want to predict\n",
        "#x = the variable that explains what y will be\n",
        "x = df.drop(['Arrival_delay'], axis=1)\n",
        "y = df['Arrival_delay']"
      ],
      "metadata": {
        "id": "G14iQGjpYq3B"
      },
      "execution_count": 3,
      "outputs": []
    },
    {
      "cell_type": "markdown",
      "source": [
        "*Split data into a training and test set*"
      ],
      "metadata": {
        "id": "ToSY618seOg_"
      }
    },
    {
      "cell_type": "code",
      "source": [
        "#Code copied from exercise 1\n",
        "from sklearn.model_selection import train_test_split\n",
        "X_train, X_test, y_train, y_test = train_test_split(x, y, test_size=0.2, random_state=42)"
      ],
      "metadata": {
        "id": "VugcQjEcdeO2"
      },
      "execution_count": 4,
      "outputs": []
    },
    {
      "cell_type": "markdown",
      "source": [
        "##Create a linear regression model with XGBoost"
      ],
      "metadata": {
        "id": "UjT4Z0LKedhY"
      }
    },
    {
      "cell_type": "code",
      "source": [
        "#Code from: https://xgboost.readthedocs.io/en/stable/get_started.html\n",
        "import xgboost as xgb\n",
        "from xgboost import XGBRegressor\n",
        "my_model = XGBRegressor()\n",
        "\n",
        "\n",
        "my_model.fit(X_train, y_train)\n",
        "y_pred = my_model.predict(X_test)"
      ],
      "metadata": {
        "id": "XQyhLKY_meRf"
      },
      "execution_count": 5,
      "outputs": []
    },
    {
      "cell_type": "markdown",
      "source": [
        "*Grid search to find out which parameters to use*\n"
      ],
      "metadata": {
        "id": "m3RpNelIsI4O"
      }
    },
    {
      "cell_type": "code",
      "source": [
        "#Code from exercise and: https://www.kaggle.com/code/tilii7/hyperparameter-grid-search-with-xgboost/notebook\n",
        "#https://xgboost.readthedocs.io/en/stable/parameter.html#parameters-for-linear-booster-booster-gblinear\n",
        "from sklearn.model_selection import GridSearchCV\n",
        "\n",
        "param_grid= {\n",
        "    'n_estimators' :[800, 900, 1000, 1100],\n",
        "    'learning_rate' : [0.001, 0.01, 0.02],\n",
        "    'max_depth' : [2, 3, 4, 5]\n",
        "}\n",
        "\n",
        "grid_search = GridSearchCV(estimator = my_model, param_grid=param_grid, cv=5, verbose=2, n_jobs=-1)\n",
        "grid_search.fit(X_train, y_train)\n",
        "best_parameters = grid_search.best_params_\n",
        "\n",
        "print(\"Best parameters:\", best_parameters)\n",
        "print(\"Best score:\", grid_search.best_score_)"
      ],
      "metadata": {
        "colab": {
          "base_uri": "https://localhost:8080/"
        },
        "id": "yZv5KUnqs4Qq",
        "outputId": "604b5038-c9e2-479f-d114-b2d1c09dc4b0"
      },
      "execution_count": 10,
      "outputs": [
        {
          "output_type": "stream",
          "name": "stdout",
          "text": [
            "Fitting 5 folds for each of 48 candidates, totalling 240 fits\n",
            "Best parameters: {'learning_rate': 0.01, 'max_depth': 3, 'n_estimators': 1000}\n",
            "Best score: 0.9883039832115174\n"
          ]
        }
      ]
    },
    {
      "cell_type": "markdown",
      "source": [
        "*Training the model with the best parameters from the grid search*"
      ],
      "metadata": {
        "id": "GGbS4tjKgCp5"
      }
    },
    {
      "cell_type": "code",
      "source": [
        "final_model = xgb.XGBRegressor(**best_parameters)\n",
        "final_model.fit(X_train, y_train)\n",
        "y_pred = final_model.predict(X_test)"
      ],
      "metadata": {
        "id": "BMJtX3MMv2n0"
      },
      "execution_count": 11,
      "outputs": []
    },
    {
      "cell_type": "markdown",
      "source": [
        "##Evaluation"
      ],
      "metadata": {
        "id": "x12TFOcbjHVC"
      }
    },
    {
      "cell_type": "code",
      "source": [
        "from sklearn.metrics import mean_absolute_error, mean_squared_error, r2_score\n",
        "\n",
        "mae = mean_absolute_error(y_test, y_pred)\n",
        "mse = mean_squared_error(y_test, y_pred)\n",
        "r2 = r2_score(y_test, y_pred)\n",
        "\n",
        "print(f\"Mean Absolute Error: {mae}\")\n",
        "print(f\"Mean Squared Error: {mse}\")\n",
        "print(f\"R-squared: {r2}\")"
      ],
      "metadata": {
        "colab": {
          "base_uri": "https://localhost:8080/"
        },
        "id": "h9yvcZ7WjJH1",
        "outputId": "7d9e15a9-b4f1-48f3-c3ef-eb7ff6b2ed8b"
      },
      "execution_count": 13,
      "outputs": [
        {
          "output_type": "stream",
          "name": "stdout",
          "text": [
            "Mean Absolute Error: 10.36670207977295\n",
            "Mean Squared Error: 197.3595733642578\n",
            "R-squared: 0.9920626878738403\n"
          ]
        }
      ]
    },
    {
      "cell_type": "markdown",
      "source": [
        "*Comparison to baseline*\n",
        "\n",
        "RMSE from XGBoost is the root of MSE = 14.04847228.\n",
        "\n",
        "The lower the RMSE & the MAE the better the model. The regression model with XGBoost has both a lower RMSE and MAE value then the baseline. This means that the predictions that the model makes are closer to the real values than what values from the baseline model are. The regression model with XGBoost does also have a higher R-squared value when you compare it to the baseline, this means that the XGBoost regression model is better at prediciting the mean of y."
      ],
      "metadata": {
        "id": "Ufe5KD0JgcZw"
      }
    },
    {
      "cell_type": "code",
      "source": [],
      "metadata": {
        "id": "SpkYdva-iChN"
      },
      "execution_count": null,
      "outputs": []
    }
  ]
}