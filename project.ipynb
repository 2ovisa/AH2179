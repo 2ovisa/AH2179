{
  "nbformat": 4,
  "nbformat_minor": 0,
  "metadata": {
    "colab": {
      "provenance": [],
      "authorship_tag": "ABX9TyNsVnxAKJ9uiZw5t1o4oaZV",
      "include_colab_link": true
    },
    "kernelspec": {
      "name": "python3",
      "display_name": "Python 3"
    },
    "language_info": {
      "name": "python"
    }
  },
  "cells": [
    {
      "cell_type": "markdown",
      "metadata": {
        "id": "view-in-github",
        "colab_type": "text"
      },
      "source": [
        "<a href=\"https://colab.research.google.com/github/2ovisa/AH2179/blob/main/project.ipynb\" target=\"_parent\"><img src=\"https://colab.research.google.com/assets/colab-badge.svg\" alt=\"Open In Colab\"/></a>"
      ]
    },
    {
      "cell_type": "markdown",
      "source": [
        "#Stop ahead prediction\n",
        "- intressant för resenärer att veta hur stor förseningen blir vid sitt stop\n",
        "- intressant för resenärer att veta hur stor förseningen är vid sin påstigande station"
      ],
      "metadata": {
        "id": "8zgv_111ILlV"
      }
    },
    {
      "cell_type": "markdown",
      "source": [
        "##Data Preparation"
      ],
      "metadata": {
        "id": "xWW656Aietcn"
      }
    },
    {
      "cell_type": "code",
      "execution_count": null,
      "metadata": {
        "id": "M6U2Qaqd29AC"
      },
      "outputs": [],
      "source": [
        "import pandas as pd\n",
        "import numpy as np\n",
        "from sklearn.model_selection import train_test_split\n",
        "from sklearn.preprocessing import StandardScaler\n",
        "from sklearn.ensemble import RandomForestRegressor\n",
        "from sklearn.metrics import mean_absolute_error, r2_score\n",
        "import matplotlib.pyplot as plt\n",
        "import seaborn as sns\n",
        "\n",
        "#-------------------------------------------------data preprocessing------------------------------------------------------------------\n",
        "\n",
        "url = 'https://raw.githubusercontent.com/zhenliangma/Applied-AI-in-Transportation/master/ProjectAssignmentData/Dataset-PT.csv'\n",
        "df = pd.read_csv(url, header = 1)\n",
        "#print(df.head(1))\n",
        "#df.info()\n",
        "#print(df.columns.tolist())\n",
        "\n",
        "#df = df.iloc[:1000]\n",
        "\n"
      ]
    },
    {
      "cell_type": "markdown",
      "source": [
        "###Kolumner att droppa:\n",
        "- Identifiers: Calender_date, route_id, bus_id (innehåller inte nödvändig information\n",
        "- They who leak future knowledge: Arrival_delay (should be target)\n",
        "- Dummies: To avoid multi collineraty one of the examples should be dropped. factor(temperature)Normal, (weather)normal, weekend, off-peak. *these become the baseline?*\n"
      ],
      "metadata": {
        "id": "MbJR6p5u8wMS"
      }
    },
    {
      "cell_type": "code",
      "source": [
        "#skapa unika trippar\n",
        "df = df.sort_values(['bus_id', 'Calendar_date', 'stop_sequence']).reset_index(drop=True)\n",
        "\n",
        "df['trip_number'] = df.groupby(['bus_id','Calendar_date', 'stop_sequence']).cumcount()\n",
        "df['unique_trip'] = (\n",
        "    df['bus_id'].astype(str) + '_' +\n",
        "    df['Calendar_date'].astype(str) + '_' +\n",
        "    df['trip_number'].astype(str)\n",
        ")\n"
      ],
      "metadata": {
        "id": "Sd5WV0j-8wls"
      },
      "execution_count": null,
      "outputs": []
    },
    {
      "cell_type": "code",
      "source": [
        "#Dubbelkolla så att tripparna är unika och har count = 27\n",
        "df.groupby('unique_trip')['stop_sequence'].agg(['min','max','count']).sort_values('count')\n"
      ],
      "metadata": {
        "id": "wddoQTCYRlL_"
      },
      "execution_count": null,
      "outputs": []
    },
    {
      "cell_type": "code",
      "source": [
        "# 1) Varje trip har exakt stoppen 1..27\n",
        "stops_ok = (\n",
        "    df.groupby('unique_trip')['stop_sequence']\n",
        "      .apply(lambda s: set(s.tolist()) == set(range(1,28)))\n",
        "      .all()\n",
        ")\n",
        "print('Stops exakt 1..27 per trip:', stops_ok)\n",
        "\n",
        "# 2) Strikt stigande med steg 1 inom varje trip\n",
        "mono_ok = (\n",
        "    df.groupby('unique_trip')['stop_sequence']\n",
        "      .apply(lambda s: (s.diff().fillna(1) == 1).all())\n",
        "      .all()\n",
        ")\n",
        "print('Strikt +1 mellan rader inom trip:', mono_ok)\n",
        "\n",
        "# 3) Horizons pekar h stopp framåt inom samma trip\n",
        "for h in [1,3,6,12]:\n",
        "    s_future = df.groupby('unique_trip')['stop_sequence'].shift(-h)\n",
        "    ok = (s_future.dropna() - df.loc[s_future.notna(), 'stop_sequence'] == h).all()\n",
        "    print(f'H={h} korrekt skift:', ok)\n",
        "\n",
        "# 4) Inga korsningar mellan trips vid skift\n",
        "for h in [1,3,6,12]:\n",
        "    uid_future = df.groupby('unique_trip')['unique_trip'].shift(-h)\n",
        "    cross_ok = (uid_future.dropna() == df.loc[uid_future.notna(), 'unique_trip']).all()\n",
        "    print(f'H={h} ingen kors-trip:', cross_ok)\n"
      ],
      "metadata": {
        "id": "8f3PRuKY4bpr"
      },
      "execution_count": null,
      "outputs": []
    },
    {
      "cell_type": "code",
      "source": [
        "#multi horizon targets\n",
        "#df = df.sort_values(['unique_trip', 'stop_sequence'])\n",
        "\n",
        "for h in [1,3,6,12]:\n",
        "  df[f'arrival_delay_t+{h}'] = df.groupby('unique_trip')['arrival_delay'].shift(-h)\n",
        "\n",
        "# ta bort rader som saknar alla  target\n",
        "targets = [f\"arrival_delay_t+{h}\" for h in [1, 3, 6, 12]]\n",
        "df = df[df[targets].notna().any(axis=1)].copy()"
      ],
      "metadata": {
        "id": "_6kGeFf5j7AS"
      },
      "execution_count": null,
      "outputs": []
    },
    {
      "cell_type": "markdown",
      "source": [
        "*Why is arrival_delay used and not stop sequence?*\n",
        "- *stop sequence is just an index telling which stop number in the trip. It only contains ordering, not delay information*\n",
        "- *the code says \"for stop i, the target is the arrival delay at stop i+1*"
      ],
      "metadata": {
        "id": "0biER2W_K6I_"
      }
    },
    {
      "cell_type": "markdown",
      "source": [
        "*this assumes each stop is ~5 minutes apart. If travel times vary a lot, then “t+5 min” might not really equal “next stop”*"
      ],
      "metadata": {
        "id": "36daCuPB_UUR"
      }
    },
    {
      "cell_type": "code",
      "source": [
        "# 3. FEATURE ENGINEERING (temporala + dynamiska features)\n",
        "#-------------------------------------------------\n",
        "# Normaliserad stopp-position\n",
        "df[\"stop_sequence_norm\"] = df.groupby(\"unique_trip\")[\"stop_sequence\"].transform(\n",
        "    lambda x: (x - x.min()) / (x.max() - x.min())\n",
        ")\n",
        "\n",
        "# Stopp kvar till slutet\n",
        "df[\"stops_remaining\"] = df.groupby(\"unique_trip\")[\"stop_sequence\"].transform(\n",
        "    lambda x: x.max() - x\n",
        ")\n",
        "\n",
        "# Differens i försening mot föregående stopp\n",
        "df[\"delay_diff\"] = df.groupby(\"unique_trip\")[\"arrival_delay\"].diff().fillna(0)\n",
        "\n",
        "# Glidande medelvärde (3 stopp bakåt)\n",
        "df[\"delay_ma3\"] = df.groupby(\"unique_trip\")[\"arrival_delay\"].transform(\n",
        "    lambda x: x.rolling(window=3, min_periods=1).mean()\n",
        ")\n",
        "df[\"delay_trend\"] = df[\"arrival_delay\"] - df[\"delay_ma3\"]\n"
      ],
      "metadata": {
        "id": "roGTfwCO6SwJ"
      },
      "execution_count": null,
      "outputs": []
    },
    {
      "cell_type": "markdown",
      "source": [
        "*använda ovan för visualisation, för varför annars ska dessa vara med?*"
      ],
      "metadata": {
        "id": "zbTsRc024_bO"
      }
    },
    {
      "cell_type": "code",
      "source": [
        "unique_trips = df[\"unique_trip\"].unique()\n",
        "split_point = int(len(unique_trips) * 0.8)\n",
        "train_trips = unique_trips[:split_point]\n",
        "test_trips = unique_trips[split_point:]\n",
        "\n",
        "# skapa mask\n",
        "train_mask = df[\"unique_trip\"].isin(train_trips)\n",
        "test_mask = ~train_mask\n"
      ],
      "metadata": {
        "id": "3-Zgcd7r7dfq"
      },
      "execution_count": null,
      "outputs": []
    },
    {
      "cell_type": "code",
      "source": [
        "#skapa kopia innan droppa för visualisering\n",
        "df_vis = df.copy()\n",
        "\n",
        "drop_cols = [\n",
        "    \"Calendar_date\", \"bus_id\", \"route_id\", \"arrival_time\",\n",
        "    \"unique_trip\", \"new_trip\", \"trip_number\"\n",
        "]\n",
        "df = df.drop(columns=[c for c in drop_cols if c in df.columns])\n",
        "\n",
        "# Baseline dummies tas bort för att undvika multikollinearitet\n",
        "to_drop = [\"factor(weather)Normal\", \"factor(temperature)Normal\",\n",
        "           \"factor(day_of_week)weekend\", \"factor(time_of_day)Off-peak\"]\n",
        "df = pd.get_dummies(df, drop_first=False)\n",
        "\n",
        "df = df.drop(columns=[c for c in to_drop if c in df.columns], errors=\"ignore\")\n"
      ],
      "metadata": {
        "id": "EgnMW4KexKYc"
      },
      "execution_count": null,
      "outputs": []
    },
    {
      "cell_type": "markdown",
      "source": [
        "- *if stop_sequence is a freature, the model might cheat by just learning that higher stop numbers mean later in the trip*"
      ],
      "metadata": {
        "id": "A5ZncJftLiHv"
      }
    },
    {
      "cell_type": "code",
      "source": [
        "# --- features/targets ---\n",
        "X = df.drop([\"arrival_delay\"] + targets, axis=1, errors=\"ignore\")\n",
        "y = df[targets]\n",
        "\n",
        "#fyll saknade targetvärden för de sista stoppen\n",
        "y = y.fillna(method='ffill').fillna(method='bfill')"
      ],
      "metadata": {
        "id": "gR0BbRbwsuTp"
      },
      "execution_count": null,
      "outputs": []
    },
    {
      "cell_type": "code",
      "source": [
        "X_train, X_test = X[train_mask], X[test_mask]\n",
        "y_train, y_test = y[train_mask], y[test_mask]"
      ],
      "metadata": {
        "id": "PsbI_-pShcGk"
      },
      "execution_count": null,
      "outputs": []
    },
    {
      "cell_type": "code",
      "source": [
        "#skala\n",
        "scaler = StandardScaler()\n",
        "X_train = scaler.fit_transform(X_train)\n",
        "X_test = scaler.transform(X_test)"
      ],
      "metadata": {
        "id": "YAiXeXi8z5Mx"
      },
      "execution_count": null,
      "outputs": []
    },
    {
      "cell_type": "code",
      "source": [
        "#grid search\n",
        "from sklearn.model_selection import RandomizedSearchCV\n",
        "from scipy.stats import uniform, randint\n",
        "\n",
        "param_dist = {\n",
        "    'n_estimators': [200, 400, 600],\n",
        "    'max_depth': [6, 8, 10],\n",
        "    'earning_rate': [0.01, 0.05, 0.1],\n",
        "    'subsample': [0.7, 0.9],\n",
        "    'colsample_bytree': [0.7, 0.9]\n",
        "}\n",
        "\n",
        "rand_search = RandomizedSearchCV(\n",
        "    XGBRegressor(tree_method='hist', random_state=42),\n",
        "    param_distributions=param_dist,\n",
        "    n_iter=30,\n",
        "    scoring='neg_mean_absolute_error',\n",
        "    cv=3,\n",
        "    n_jobs=-1\n",
        ")\n",
        "\n",
        "rand_search.fit(X_train, y_train)\n",
        "print(\"Best params:\", rand_search.best_params_)\n"
      ],
      "metadata": {
        "id": "wkxIiw0WtUOP"
      },
      "execution_count": null,
      "outputs": []
    },
    {
      "cell_type": "markdown",
      "source": [
        "##Multi-output models"
      ],
      "metadata": {
        "id": "qKzfa4OQxx1D"
      }
    },
    {
      "cell_type": "markdown",
      "source": [
        "###*KNN*"
      ],
      "metadata": {
        "id": "3PyNkxF95jZV"
      }
    },
    {
      "cell_type": "code",
      "source": [
        "X_train.dtypes.value_counts()"
      ],
      "metadata": {
        "id": "1czhWTjbztPY"
      },
      "execution_count": null,
      "outputs": []
    },
    {
      "cell_type": "code",
      "source": [
        "models = {}\n",
        "for h in [1,3,6,12]:\n",
        "    y_h = df[f\"arrival_delay_t+{h}\"].dropna()\n",
        "    X_h = X.loc[y_h.index]\n",
        "    model = KNeighborsRegressor(n_neighbors=5)\n",
        "    model.fit(X_h, y_h)\n",
        "    models[h] = model"
      ],
      "metadata": {
        "id": "ifOETHkwkBWd"
      },
      "execution_count": null,
      "outputs": []
    },
    {
      "cell_type": "code",
      "source": [
        "from sklearn.neighbors import KNeighborsRegressor\n",
        "\n",
        "\n",
        "model = KNeighborsRegressor(n_neighbors=5)\n",
        "model.fit(X_train, y_train)\n",
        "\n",
        "# Predict on the test set\n",
        "y_pred = model.predict(X_test)"
      ],
      "metadata": {
        "id": "CY37veBrMEkK"
      },
      "execution_count": null,
      "outputs": []
    },
    {
      "cell_type": "markdown",
      "source": [
        "###*Random Forest Regressor*"
      ],
      "metadata": {
        "id": "aWxGf-7y5nHZ"
      }
    },
    {
      "cell_type": "code",
      "source": [
        "from sklearn.ensemble import RandomForestRegressor\n",
        "from sklearn.metrics import mean_absolute_error\n",
        "\n",
        "# Träna en enda multi-output RF\n",
        "model = RandomForestRegressor(n_estimators=80, max_depth=15, random_state=42)\n",
        "model.fit(X_train, y_train)\n",
        "\n",
        "# Prediktion\n",
        "y_pred = model.predict(X_test)\n",
        "\n"
      ],
      "metadata": {
        "id": "ChvitN5-68EG"
      },
      "execution_count": null,
      "outputs": []
    },
    {
      "cell_type": "markdown",
      "source": [
        "###*LGBMR // XGBoost*"
      ],
      "metadata": {
        "id": "9ZDTYr2W5r4P"
      }
    },
    {
      "cell_type": "code",
      "source": [
        "from lightgbm import LGBMRegressor\n",
        "model = LGBMRegressor(n_estimators=300, learning_rate=0.05, max_depth=-1, num_leaves=64)\n",
        "model.fit(X_train, y_train)\n"
      ],
      "metadata": {
        "id": "6mBD2FhF4rBu"
      },
      "execution_count": null,
      "outputs": []
    },
    {
      "cell_type": "code",
      "source": [
        "from xgboost import XGBRegressor\n",
        "from sklearn.multioutput import MultiOutputRegressor\n",
        "from sklearn.metrics import mean_absolute_error, r2_score\n",
        "import matplotlib.pyplot as plt\n",
        "\n",
        "# Multi-output XGBoost\n",
        "xgb_model = MultiOutputRegressor(\n",
        "    XGBRegressor(\n",
        "        n_estimators=400,\n",
        "        learning_rate=0.05,\n",
        "        max_depth=8,\n",
        "        subsample=0.8,\n",
        "        colsample_bytree=0.8,\n",
        "        random_state=42,\n",
        "        tree_method='hist'  # snabbare, mindre minne\n",
        "    )\n",
        ")\n",
        "\n",
        "xgb_model.fit(X_train, y_train)\n",
        "y_pred = xgb_model.predict(X_test)\n"
      ],
      "metadata": {
        "id": "Mhvpo2OGtM2x"
      },
      "execution_count": null,
      "outputs": []
    },
    {
      "cell_type": "markdown",
      "source": [
        "##*Kedjad multi-output*"
      ],
      "metadata": {
        "id": "3PyJjpfFxCD0"
      }
    },
    {
      "cell_type": "code",
      "source": [
        "from sklearn.multioutput import RegressorChain\n",
        "\n",
        "base_model = XGBRegressor(n_estimators=400, learning_rate=0.05, max_depth=8,\n",
        "                          subsample=0.8, colsample_bytree=0.8, random_state=42,\n",
        "                          tree_method='hist')\n",
        "\n",
        "chain = RegressorChain(base_model, order =[0,1,2,3]) #0=t+1,1=t+3 osv\n",
        "chain.fit(X_train, y_train)\n",
        "\n",
        "y_pred = chain.predict(X_test)"
      ],
      "metadata": {
        "id": "lFKDJE6QxHM-"
      },
      "execution_count": null,
      "outputs": []
    },
    {
      "cell_type": "code",
      "source": [
        "#Skifta prediktionerna tillbaka\n",
        "# skapa DataFrame med prediktioner\n",
        "pred_df = pd.DataFrame(y_pred, columns=[f\"pred_t+{h}\" for h in [1,3,6,12]])\n",
        "pred_df[\"stop_sequence\"] = df_vis.loc[test_mask, \"stop_sequence\"].values\n",
        "pred_df[\"unique_trip\"] = df_vis.loc[test_mask, \"unique_trip\"].values\n",
        "pred_df[\"arrival_delay\"] = df_vis.loc[test_mask, \"arrival_delay\"].values\n",
        "\n",
        "# skifta tillbaka så att varje prediktion hamnar vid sitt \"målstopp\"\n",
        "for h in [1,3,6,12]:\n",
        "    pred_df[f\"pred_t+{h}_aligned\"] = (\n",
        "        pred_df.groupby(\"unique_trip\")[f\"pred_t+{h}\"].shift(h)\n",
        "    )\n"
      ],
      "metadata": {
        "id": "Zu2s9RbWi2qB"
      },
      "execution_count": null,
      "outputs": []
    },
    {
      "cell_type": "markdown",
      "source": [
        "##Evalutation"
      ],
      "metadata": {
        "id": "FPszd2q_55Fq"
      }
    },
    {
      "cell_type": "code",
      "source": [
        "#utvärdera xgboost\n",
        "mae = mean_absolute_error(y_test, y_pred, multioutput='raw_values')\n",
        "r2 = [r2_score(y_test.iloc[:, i], y_pred[:, i]) for i in range(y_test.shape[1])]\n",
        "\n",
        "for i, col in enumerate(y_test.columns):\n",
        "    print(f\"{col}: MAE={mae[i]:.2f}, R²={r2[i]:.3f}\")\n"
      ],
      "metadata": {
        "id": "J3sL4Mf2tUe0"
      },
      "execution_count": null,
      "outputs": []
    },
    {
      "cell_type": "code",
      "source": [
        "##visa medelvärdet per stopp över alla resor tillsammans med prediction\n",
        "avg_aligned = pred_df.groupby(\"stop_sequence\")[[\"arrival_delay\"] +\n",
        "    [f\"pred_t+{h}_aligned\" for h in [1,3,6,12]]].mean()\n",
        "\n",
        "plt.figure(figsize=(10,6))\n",
        "plt.plot(avg_aligned.index, avg_aligned[\"arrival_delay\"], label=\"Actual\", marker='o')\n",
        "for h in [1,3,6,12]:\n",
        "    plt.plot(avg_aligned.index, avg_aligned[f\"pred_t+{h}_aligned\"], '--', label=f\"Predicted t+{h}\")\n",
        "plt.xlabel(\"Stop sequence\")\n",
        "plt.ylabel(\"Average Delay (s)\")\n",
        "plt.title(\"Average Delay Prediction Aligned per Stop (Regressor Chain)\")\n",
        "plt.legend()\n",
        "plt.grid(True)\n",
        "plt.show()\n"
      ],
      "metadata": {
        "id": "rtxu_nxNjHKS"
      },
      "execution_count": null,
      "outputs": []
    },
    {
      "cell_type": "code",
      "source": [
        "#Feature importance for XGB, vilken feature påverkar prediction mest\n",
        "import numpy as np\n",
        "import pandas as pd\n",
        "import matplotlib.pyplot as plt\n",
        "\n",
        "# samla importances från varje intern modell\n",
        "importances = []\n",
        "for i, est in enumerate(xgb_model.estimators_):\n",
        "    imp = est.feature_importances_\n",
        "    importances.append(imp)\n",
        "\n",
        "# medelvärde över alla horisonter\n",
        "mean_importance = np.mean(importances, axis=0)\n",
        "\n",
        "# sortera och plotta\n",
        "feat_imp = pd.Series(mean_importance, index=X.columns).sort_values(ascending=False)\n",
        "feat_imp.head(5).plot(kind='barh', figsize=(8,6))\n",
        "plt.title(\"Top 5 Feature Importances (Mean Across Horizons)\")\n",
        "plt.xlabel(\"Importance\")\n",
        "plt.ylabel(\"Feature\")\n",
        "plt.show()\n"
      ],
      "metadata": {
        "id": "MXDJQoQNjiJo"
      },
      "execution_count": null,
      "outputs": []
    },
    {
      "cell_type": "code",
      "source": [
        "#Feature importance for RegressonChain\n",
        "# collect feature importances per horizon\n",
        "feature_names = list(X.columns)\n",
        "importances = []\n",
        "for i, est in enumerate(chain.estimators_):\n",
        "    # base + previous predictions for later horizons\n",
        "    extra = [f\"y_pred_t+{[1,3,6,12][j]}\" for j in range(i)]\n",
        "    feats = feature_names + extra\n",
        "    imp = pd.Series(est.feature_importances_, index=feats).sort_values(ascending=False)\n",
        "    importances.append(imp)\n",
        "\n",
        "# plot top features per horizon\n",
        "plt.figure(figsize=(14, 10))\n",
        "for i, (imp, h) in enumerate(zip(importances, [1,3,6,12])):\n",
        "    plt.subplot(2, 2, i+1)\n",
        "    top_imp = imp.head(10)\n",
        "    top_imp[::-1].plot(kind=\"barh\")  # reverse for readable order\n",
        "    plt.title(f\"Horizon t+{h}\")\n",
        "    plt.xlabel(\"Importance\")\n",
        "    plt.tight_layout()\n",
        "\n",
        "plt.show()\n",
        "\n",
        "\n"
      ],
      "metadata": {
        "id": "0YRcPakrD_iD"
      },
      "execution_count": null,
      "outputs": []
    },
    {
      "cell_type": "markdown",
      "source": [
        "KNN\n",
        "- MAE for arrival_delay_t+1: 27.19\n",
        "- MAE for arrival_delay_t+3: 43.65\n",
        "- MAE for arrival_delay_t+6: 61.55\n",
        "- MAE for arrival_delay_t+12: 88.90\n",
        "\n",
        "single output\n",
        "- t+1: MAE=18.31, R²=0.978\n",
        "- t+3: MAE=32.48, R²=0.937\n",
        "- t+6: MAE=46.89, R²=0.877\n",
        "- t+12: MAE=70.30, R²=0.747\n",
        "\n",
        "RF\n",
        "- MAE for arrival_delay_t+1: 20.42\n",
        "- MAE for arrival_delay_t+3: 37.31\n",
        "- MAE for arrival_delay_t+6: 55.17\n",
        "- MAE for arrival_delay_t+12: 81.35\n",
        "\n",
        "XGBoost\n",
        "- arrival_delay_t+1: MAE=19.95, R²=0.922\n",
        "- arrival_delay_t+3: MAE=36.88, R²=0.878\n",
        "- arrival_delay_t+6: MAE=54.21, R²=0.820\n",
        "- arrival_delay_t+12: MAE=80.16, R²=0.725\n",
        "\n",
        "med multi\n",
        "- arrival_delay_t+1: MAE=19.37, R²=0.928\n",
        "- arrival_delay_t+3: MAE=44.72, R²=0.817\n",
        "- arrival_delay_t+6: MAE=73.83, R²=0.669\n",
        "- arrival_delay_t+12: MAE=116.72, R²=0.441\n",
        "\n",
        "RegressionChain\n",
        "- arrival_delay_t+1: MAE=19.37, R²=0.928\n",
        "- arrival_delay_t+3: MAE=44.70, R²=0.811\n",
        "- arrival_delay_t+6: MAE=73.52, R²=0.668\n",
        "- arrival_delay_t+12: MAE=115.88, R²=0.443"
      ],
      "metadata": {
        "id": "9bCzBNwa8AN3"
      }
    },
    {
      "cell_type": "code",
      "source": [
        "#Korrelation mellan faktisk och predikterad försening per horisont\n",
        "\n",
        "plt.figure(figsize=(12, 8))\n",
        "for i, col in enumerate(y.columns):\n",
        "    plt.subplot(2, 2, i+1)\n",
        "    plt.scatter(y_test[col], y_pred[:, i], alpha=0.4)\n",
        "    plt.plot([y_test[col].min(), y_test[col].max()],\n",
        "             [y_test[col].min(), y_test[col].max()],\n",
        "             \"r--\")\n",
        "    plt.xlabel(\"Actual\")\n",
        "    plt.ylabel(\"Predicted\")\n",
        "    plt.title(f\"{col} | R² = {r2_score(y_test[col], y_pred[:, i]):.2f}\")\n",
        "plt.tight_layout()\n",
        "plt.show()"
      ],
      "metadata": {
        "id": "KpUSuuN_lOlK"
      },
      "execution_count": null,
      "outputs": []
    },
    {
      "cell_type": "code",
      "source": [
        "# MAE över prediktionshorisonter: Visar hur prognosprecisionen försämras längre fram i rutten\n",
        "\n",
        "plt.figure(figsize=(8,5))\n",
        "plt.plot([1,3,6,12], mae, marker='o', label='MAE')\n",
        "plt.title(\"MAE vs Prediction Horizon\")\n",
        "plt.xlabel(\"Stops Ahead\")\n",
        "plt.ylabel(\"Mean Absolute Error (s)\")\n",
        "plt.grid(True)\n",
        "plt.show()\n"
      ],
      "metadata": {
        "id": "xlSr-AvCwUkm"
      },
      "execution_count": null,
      "outputs": []
    },
    {
      "cell_type": "code",
      "source": [
        "#r2 över prediktionshorisonter: Visar hur prognosprecisionen försämras längre fram i rutten\n",
        "\n",
        "r2_scores = [r2_score(y_test.iloc[:, i], y_pred[:, i]) for i in range(y.shape[1])]\n",
        "plt.plot([1,3,6,12], r2_scores, marker='o')\n",
        "plt.title(\"R² per Horizon\")\n",
        "plt.xlabel(\"Stops Ahead\")\n",
        "plt.ylabel(\"R²\")\n",
        "plt.grid(True)\n",
        "plt.show()\n"
      ],
      "metadata": {
        "id": "aP90nwCv47nx"
      },
      "execution_count": null,
      "outputs": []
    },
    {
      "cell_type": "code",
      "source": [
        "#distributioncheck\n",
        "fig, axes = plt.subplots(len(targets), 1, figsize=(8, 16))\n",
        "for i, col in enumerate(targets):\n",
        "    sns.histplot(df[col], bins=50, kde=True, ax=axes[i])\n",
        "    axes[i].set_title(f\"Distribution of {col}\")\n",
        "plt.tight_layout()\n",
        "plt.show()"
      ],
      "metadata": {
        "id": "rQ0vNgyPovOE"
      },
      "execution_count": null,
      "outputs": []
    },
    {
      "cell_type": "markdown",
      "source": [
        "MAE = the average absolute difference between the models predictions and the actual delay\n",
        "\n",
        "- MAE for delay_t+1_stop: 34.00\n",
        "- MAE for delay_t+3_stop: 46.54\n",
        "- MAE for delay_t+6_stop: 54.66\n",
        "- MAE for delay_t+12_stop: 56.01\n",
        "\n",
        "This means that on average, the prediction for the next stop is off by 34 seconds.\n",
        "\n",
        "Interpretations:\n",
        "- Errors grow as the horizon length increases, which is expected since uncertainty accumulates further into the future\n"
      ],
      "metadata": {
        "id": "I8GGveLm7txn"
      }
    },
    {
      "cell_type": "markdown",
      "source": [
        "*olika dummies och deras relation till arrival delay*\n",
        "- tror inte detta är jätteintressant för min analys"
      ],
      "metadata": {
        "id": "n7n8McBGlX_n"
      }
    },
    {
      "cell_type": "code",
      "source": [
        "# skapa en kategori från de one-hot-kodade väderkolumnerna\n",
        "weather_cols = [c for c in df_vis.columns if \"factor(weather)\" in c]\n",
        "df_vis[\"weather_category\"] = df_vis[weather_cols].idxmax(axis=1).str.replace(\"factor(weather)\", \"\")\n",
        "\n",
        "sns.boxplot(x=\"weather_category\", y=\"arrival_delay\", data=df_vis)\n",
        "plt.title(\"Arrival Delay by Weather Condition\")\n",
        "plt.show()"
      ],
      "metadata": {
        "id": "MqBgsLqGlR9m"
      },
      "execution_count": null,
      "outputs": []
    },
    {
      "cell_type": "code",
      "source": [
        "tod_cols = [c for c in df_vis.columns if \"factor(time_of_day)\" in c]\n",
        "df_vis[\"time_of_day_category\"] = df_vis[tod_cols].idxmax(axis=1).str.replace(\"factor(time_of_day)\", \"\")\n",
        "\n",
        "sns.boxplot(x=\"time_of_day_category\", y=\"arrival_delay\", data=df_vis)\n",
        "plt.title(\"Arrival Delay by Time of Day\")\n",
        "plt.show()"
      ],
      "metadata": {
        "id": "pg62C1w4lUXl"
      },
      "execution_count": null,
      "outputs": []
    },
    {
      "cell_type": "code",
      "source": [
        "dow_cols = [c for c in df_vis.columns if \"factor(day_of_week)\" in c]\n",
        "df_vis[\"day_category\"] = df_vis[dow_cols].idxmax(axis=1).str.replace(\"factor(day_of_week)\", \"\")\n",
        "\n",
        "sns.boxplot(x=\"day_category\", y=\"arrival_delay\", data=df_vis)\n",
        "plt.title(\"Arrival Delay by Weekday/Weekend\")\n",
        "plt.show()"
      ],
      "metadata": {
        "id": "PdeYvfNSlWn3"
      },
      "execution_count": null,
      "outputs": []
    }
  ]
}