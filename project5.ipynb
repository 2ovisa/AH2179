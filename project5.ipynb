{
  "nbformat": 4,
  "nbformat_minor": 0,
  "metadata": {
    "colab": {
      "provenance": [],
      "authorship_tag": "ABX9TyNaCdNrjM0uPOQeGSwWOptB",
      "include_colab_link": true
    },
    "kernelspec": {
      "name": "python3",
      "display_name": "Python 3"
    },
    "language_info": {
      "name": "python"
    }
  },
  "cells": [
    {
      "cell_type": "markdown",
      "metadata": {
        "id": "view-in-github",
        "colab_type": "text"
      },
      "source": [
        "<a href=\"https://colab.research.google.com/github/2ovisa/AH2179/blob/main/project5.ipynb\" target=\"_parent\"><img src=\"https://colab.research.google.com/assets/colab-badge.svg\" alt=\"Open In Colab\"/></a>"
      ]
    },
    {
      "cell_type": "markdown",
      "source": [
        "#Stop ahead prediction\n",
        "- intressant för resenärer att veta hur stor förseningen blir vid sitt stop\n",
        "- intressant för resenärer att veta hur stor förseningen är vid sin påstigande station"
      ],
      "metadata": {
        "id": "8zgv_111ILlV"
      }
    },
    {
      "cell_type": "markdown",
      "source": [
        "##Data Preparation"
      ],
      "metadata": {
        "id": "xWW656Aietcn"
      }
    },
    {
      "cell_type": "code",
      "execution_count": 155,
      "metadata": {
        "id": "M6U2Qaqd29AC"
      },
      "outputs": [],
      "source": [
        "import pandas as pd\n",
        "import numpy as np\n",
        "from sklearn.model_selection import train_test_split\n",
        "from sklearn.preprocessing import StandardScaler\n",
        "from sklearn.ensemble import RandomForestRegressor\n",
        "from sklearn.metrics import mean_absolute_error, r2_score\n",
        "import matplotlib.pyplot as plt\n",
        "import seaborn as sns\n",
        "\n",
        "#-------------------------------------------------data preprocessing------------------------------------------------------------------\n",
        "\n",
        "url = 'https://raw.githubusercontent.com/zhenliangma/Applied-AI-in-Transportation/master/ProjectAssignmentData/Dataset-PT.csv'\n",
        "df = pd.read_csv(url, header = 1)\n",
        "#print(df.head(1))\n",
        "#df.info()\n",
        "#print(df.columns.tolist())\n",
        "\n",
        "#df = df.iloc[:1000]\n",
        "\n"
      ]
    },
    {
      "cell_type": "markdown",
      "source": [
        "###Kolumner att droppa:\n",
        "- Identifiers: Calender_date, route_id, bus_id (innehåller inte nödvändig information\n",
        "- They who leak future knowledge: Arrival_delay (should be target)\n",
        "- Dummies: To avoid multi collineraty one of the examples should be dropped. factor(temperature)Normal, (weather)normal, weekend, off-peak. *these become the baseline?*\n"
      ],
      "metadata": {
        "id": "MbJR6p5u8wMS"
      }
    },
    {
      "cell_type": "code",
      "source": [
        "#skapa unika trippar\n",
        "df = df.sort_values(['bus_id', 'Calendar_date', 'stop_sequence']).reset_index(drop=True)\n",
        "\n",
        "df['trip_number'] = df.groupby(['bus_id','Calendar_date', 'stop_sequence']).cumcount()\n",
        "df['unique_trip'] = (\n",
        "    df['bus_id'].astype(str) + '_' +\n",
        "    df['Calendar_date'].astype(str) + '_' +\n",
        "    df['trip_number'].astype(str)\n",
        ")\n"
      ],
      "metadata": {
        "id": "Sd5WV0j-8wls"
      },
      "execution_count": 156,
      "outputs": []
    },
    {
      "cell_type": "code",
      "source": [
        "#Dubbelkolla så att tripparna är unika och har count = 27\n",
        "df.groupby('unique_trip')['stop_sequence'].agg(['min','max','count']).sort_values('count')\n"
      ],
      "metadata": {
        "id": "wddoQTCYRlL_"
      },
      "execution_count": null,
      "outputs": []
    },
    {
      "cell_type": "code",
      "source": [
        "# 1) Varje trip har exakt stoppen 1..27\n",
        "stops_ok = (\n",
        "    df.groupby('unique_trip')['stop_sequence']\n",
        "      .apply(lambda s: set(s.tolist()) == set(range(1,28)))\n",
        "      .all()\n",
        ")\n",
        "print('Stops exakt 1..27 per trip:', stops_ok)\n",
        "\n",
        "# 2) Strikt stigande med steg 1 inom varje trip\n",
        "mono_ok = (\n",
        "    df.groupby('unique_trip')['stop_sequence']\n",
        "      .apply(lambda s: (s.diff().fillna(1) == 1).all())\n",
        "      .all()\n",
        ")\n",
        "print('Strikt +1 mellan rader inom trip:', mono_ok)\n",
        "\n",
        "# 3) Horizons pekar h stopp framåt inom samma trip\n",
        "for h in [1,3,6,12]:\n",
        "    s_future = df.groupby('unique_trip')['stop_sequence'].shift(-h)\n",
        "    ok = (s_future.dropna() - df.loc[s_future.notna(), 'stop_sequence'] == h).all()\n",
        "    print(f'H={h} korrekt skift:', ok)\n",
        "\n",
        "# 4) Inga korsningar mellan trips vid skift\n",
        "for h in [1,3,6,12]:\n",
        "    uid_future = df.groupby('unique_trip')['unique_trip'].shift(-h)\n",
        "    cross_ok = (uid_future.dropna() == df.loc[uid_future.notna(), 'unique_trip']).all()\n",
        "    print(f'H={h} ingen kors-trip:', cross_ok)\n"
      ],
      "metadata": {
        "id": "8f3PRuKY4bpr"
      },
      "execution_count": null,
      "outputs": []
    },
    {
      "cell_type": "code",
      "source": [
        "#multi horizon targets\n",
        "#df = df.sort_values(['unique_trip', 'stop_sequence'])\n",
        "\n",
        "for h in [1,3,6,12]:\n",
        "  df[f'arrival_delay_t+{h}'] = df.groupby('unique_trip')['arrival_delay'].shift(-h)\n",
        "\n",
        "# ta bort rader utan target\n",
        "df = df[df[\"arrival_delay_t+1\"].notna()].copy()"
      ],
      "metadata": {
        "id": "_6kGeFf5j7AS"
      },
      "execution_count": 159,
      "outputs": []
    },
    {
      "cell_type": "markdown",
      "source": [
        "*Why is arrival_delay used and not stop sequence?*\n",
        "- *stop sequence is just an index telling which stop number in the trip. It only contains ordering, not delay information*\n",
        "- *the code says \"for stop i, the target is the arrival delay at stop i+1*"
      ],
      "metadata": {
        "id": "0biER2W_K6I_"
      }
    },
    {
      "cell_type": "markdown",
      "source": [
        "*this assumes each stop is ~5 minutes apart. If travel times vary a lot, then “t+5 min” might not really equal “next stop”*"
      ],
      "metadata": {
        "id": "36daCuPB_UUR"
      }
    },
    {
      "cell_type": "code",
      "source": [
        "# 3. FEATURE ENGINEERING (temporala + dynamiska features)\n",
        "#-------------------------------------------------\n",
        "# Normaliserad stopp-position\n",
        "df[\"stop_sequence_norm\"] = df.groupby(\"unique_trip\")[\"stop_sequence\"].transform(\n",
        "    lambda x: (x - x.min()) / (x.max() - x.min())\n",
        ")\n",
        "\n",
        "# Stopp kvar till slutet\n",
        "df[\"stops_remaining\"] = df.groupby(\"unique_trip\")[\"stop_sequence\"].transform(\n",
        "    lambda x: x.max() - x\n",
        ")\n",
        "\n",
        "# Differens i försening mot föregående stopp\n",
        "df[\"delay_diff\"] = df.groupby(\"unique_trip\")[\"arrival_delay\"].diff().fillna(0)\n",
        "\n",
        "# Glidande medelvärde (3 stopp bakåt)\n",
        "df[\"delay_ma3\"] = df.groupby(\"unique_trip\")[\"arrival_delay\"].transform(\n",
        "    lambda x: x.rolling(window=3, min_periods=1).mean()\n",
        ")\n",
        "df[\"delay_trend\"] = df[\"arrival_delay\"] - df[\"delay_ma3\"]\n",
        "\n",
        "#ökning/minskning av försening\n",
        "df[\"delay_growth\"] = df.groupby(\"unique_trip\")[\"arrival_delay\"].diff().fillna(0)\n",
        "\n"
      ],
      "metadata": {
        "id": "roGTfwCO6SwJ"
      },
      "execution_count": 160,
      "outputs": []
    },
    {
      "cell_type": "markdown",
      "source": [
        "*använda ovan för visualisation, för varför annars ska dessa vara med?*"
      ],
      "metadata": {
        "id": "zbTsRc024_bO"
      }
    },
    {
      "cell_type": "code",
      "source": [
        "unique_trips = df[\"unique_trip\"].unique()\n",
        "split_point = int(len(unique_trips) * 0.8)\n",
        "train_trips = unique_trips[:split_point]\n",
        "test_trips = unique_trips[split_point:]\n",
        "\n",
        "# skapa mask\n",
        "train_mask = df[\"unique_trip\"].isin(train_trips)\n",
        "test_mask = ~train_mask\n"
      ],
      "metadata": {
        "id": "3-Zgcd7r7dfq"
      },
      "execution_count": 161,
      "outputs": []
    },
    {
      "cell_type": "code",
      "source": [
        "#skapa kopia innan droppa för visualisering\n",
        "df_vis = df.copy()\n",
        "\n",
        "drop_cols = [\n",
        "    \"Calendar_date\", \"bus_id\", \"route_id\", \"arrival_time\",\n",
        "    \"stop_sequence\", \"unique_trip\", \"new_trip\", \"trip_number\"\n",
        "]\n",
        "df = df.drop(columns=[c for c in drop_cols if c in df.columns])\n",
        "\n",
        "# Baseline dummies tas bort för att undvika multikollinearitet\n",
        "to_drop = [\"factor(weather)Normal\", \"factor(temperature)Normal\",\n",
        "           \"factor(day_of_week)weekend\", \"factor(time_of_day)Off-peak\"]\n",
        "df = pd.get_dummies(df, drop_first=False)\n",
        "df = df.drop(columns=[c for c in to_drop if c in df.columns], errors=\"ignore\")\n"
      ],
      "metadata": {
        "id": "EgnMW4KexKYc"
      },
      "execution_count": 162,
      "outputs": []
    },
    {
      "cell_type": "markdown",
      "source": [
        "- *if stop_sequence is a freature, the model might cheat by just learning that higher stop numbers mean later in the trip*"
      ],
      "metadata": {
        "id": "A5ZncJftLiHv"
      }
    },
    {
      "cell_type": "code",
      "source": [
        "# --- features/targets ---\n",
        "targets = [f\"arrival_delay_t+{h}\" for h in [1, 3, 6, 12]]\n",
        "\n",
        "X = df.drop([\"arrival_delay\"] + targets, axis=1, errors=\"ignore\")\n",
        "y = df[targets]"
      ],
      "metadata": {
        "id": "gR0BbRbwsuTp"
      },
      "execution_count": 163,
      "outputs": []
    },
    {
      "cell_type": "code",
      "source": [
        "#skala\n",
        "scaler = StandardScaler()\n",
        "X_scaled = scaler.fit_transform(X)"
      ],
      "metadata": {
        "id": "YAiXeXi8z5Mx"
      },
      "execution_count": 164,
      "outputs": []
    },
    {
      "cell_type": "code",
      "source": [
        "X_train, X_test = X_scaled[train_mask], X_scaled[test_mask]\n",
        "y_train, y_test = y[train_mask], y[test_mask]"
      ],
      "metadata": {
        "id": "AahE66gl70sp"
      },
      "execution_count": 165,
      "outputs": []
    },
    {
      "cell_type": "markdown",
      "source": [
        "##Multi-output models"
      ],
      "metadata": {
        "id": "qKzfa4OQxx1D"
      }
    },
    {
      "cell_type": "markdown",
      "source": [
        "###*KNN*"
      ],
      "metadata": {
        "id": "3PyNkxF95jZV"
      }
    },
    {
      "cell_type": "code",
      "source": [
        "X_train.dtypes.value_counts()"
      ],
      "metadata": {
        "id": "1czhWTjbztPY"
      },
      "execution_count": null,
      "outputs": []
    },
    {
      "cell_type": "code",
      "source": [
        "models = {}\n",
        "for h in [1,3,6,12]:\n",
        "    y_h = df[f\"arrival_delay_t+{h}\"].dropna()\n",
        "    X_h = X.loc[y_h.index]\n",
        "    model = KNeighborsRegressor(n_neighbors=5)\n",
        "    model.fit(X_h, y_h)\n",
        "    models[h] = model"
      ],
      "metadata": {
        "id": "ifOETHkwkBWd"
      },
      "execution_count": 166,
      "outputs": []
    },
    {
      "cell_type": "code",
      "source": [
        "from sklearn.neighbors import KNeighborsRegressor\n",
        "\n",
        "\n",
        "model = KNeighborsRegressor(n_neighbors=5)\n",
        "model.fit(X_train, y_train)\n",
        "\n",
        "# Predict on the test set\n",
        "y_pred = model.predict(X_test)"
      ],
      "metadata": {
        "id": "CY37veBrMEkK"
      },
      "execution_count": null,
      "outputs": []
    },
    {
      "cell_type": "markdown",
      "source": [
        "###*Random Forest Regressor*"
      ],
      "metadata": {
        "id": "aWxGf-7y5nHZ"
      }
    },
    {
      "cell_type": "code",
      "source": [
        "from sklearn.ensemble import RandomForestRegressor\n",
        "from sklearn.metrics import mean_absolute_error\n",
        "\n",
        "# Träna en enda multi-output RF\n",
        "model = RandomForestRegressor(n_estimators=80, max_depth=15, random_state=42)\n",
        "model.fit(X_train, y_train)\n",
        "\n",
        "# Prediktion\n",
        "y_pred = model.predict(X_test)\n",
        "\n"
      ],
      "metadata": {
        "id": "ChvitN5-68EG"
      },
      "execution_count": null,
      "outputs": []
    },
    {
      "cell_type": "markdown",
      "source": [
        "###*LGBMR // XGBoost*"
      ],
      "metadata": {
        "id": "9ZDTYr2W5r4P"
      }
    },
    {
      "cell_type": "code",
      "source": [
        "from lightgbm import LGBMRegressor\n",
        "model = LGBMRegressor(n_estimators=300, learning_rate=0.05, max_depth=-1, num_leaves=64)\n",
        "model.fit(X_train, y_train)\n"
      ],
      "metadata": {
        "id": "6mBD2FhF4rBu"
      },
      "execution_count": null,
      "outputs": []
    },
    {
      "cell_type": "code",
      "source": [
        "from xgboost import XGBRegressor\n",
        "from sklearn.multioutput import MultiOutputRegressor\n",
        "from sklearn.metrics import mean_absolute_error, r2_score\n",
        "import matplotlib.pyplot as plt\n",
        "\n",
        "# Multi-output XGBoost\n",
        "xgb_model = MultiOutputRegressor(\n",
        "    XGBRegressor(\n",
        "        n_estimators=400,\n",
        "        learning_rate=0.05,\n",
        "        max_depth=8,\n",
        "        subsample=0.8,\n",
        "        colsample_bytree=0.8,\n",
        "        random_state=42,\n",
        "        tree_method='hist'  # snabbare, mindre minne\n",
        "    )\n",
        ")\n",
        "\n",
        "xgb_model.fit(X_train, y_train)\n",
        "y_pred = xgb_model.predict(X_test)\n"
      ],
      "metadata": {
        "id": "Mhvpo2OGtM2x"
      },
      "execution_count": null,
      "outputs": []
    },
    {
      "cell_type": "markdown",
      "source": [
        "##Evalutation"
      ],
      "metadata": {
        "id": "FPszd2q_55Fq"
      }
    },
    {
      "cell_type": "code",
      "source": [
        "#utvärdera xgboost\n",
        "mae = mean_absolute_error(y_test, y_pred, multioutput='raw_values')\n",
        "r2 = [r2_score(y_test.iloc[:, i], y_pred[:, i]) for i in range(y_test.shape[1])]\n",
        "\n",
        "for i, col in enumerate(y_test.columns):\n",
        "    print(f\"{col}: MAE={mae[i]:.2f}, R²={r2[i]:.3f}\")\n"
      ],
      "metadata": {
        "colab": {
          "base_uri": "https://localhost:8080/",
          "height": 490
        },
        "id": "J3sL4Mf2tUe0",
        "outputId": "b8ec0ad7-8564-4018-96b2-d9611a58f535"
      },
      "execution_count": 167,
      "outputs": [
        {
          "output_type": "error",
          "ename": "ValueError",
          "evalue": "Found input variables with inconsistent numbers of samples: [56532, 60570]",
          "traceback": [
            "\u001b[0;31m---------------------------------------------------------------------------\u001b[0m",
            "\u001b[0;31mValueError\u001b[0m                                Traceback (most recent call last)",
            "\u001b[0;32m/tmp/ipython-input-302944274.py\u001b[0m in \u001b[0;36m<cell line: 0>\u001b[0;34m()\u001b[0m\n\u001b[1;32m      1\u001b[0m \u001b[0;31m#utvärdera xgboost\u001b[0m\u001b[0;34m\u001b[0m\u001b[0;34m\u001b[0m\u001b[0m\n\u001b[0;32m----> 2\u001b[0;31m \u001b[0mmae\u001b[0m \u001b[0;34m=\u001b[0m \u001b[0mmean_absolute_error\u001b[0m\u001b[0;34m(\u001b[0m\u001b[0my_test\u001b[0m\u001b[0;34m,\u001b[0m \u001b[0my_pred\u001b[0m\u001b[0;34m,\u001b[0m \u001b[0mmultioutput\u001b[0m\u001b[0;34m=\u001b[0m\u001b[0;34m'raw_values'\u001b[0m\u001b[0;34m)\u001b[0m\u001b[0;34m\u001b[0m\u001b[0;34m\u001b[0m\u001b[0m\n\u001b[0m\u001b[1;32m      3\u001b[0m \u001b[0mr2\u001b[0m \u001b[0;34m=\u001b[0m \u001b[0;34m[\u001b[0m\u001b[0mr2_score\u001b[0m\u001b[0;34m(\u001b[0m\u001b[0my_test\u001b[0m\u001b[0;34m.\u001b[0m\u001b[0miloc\u001b[0m\u001b[0;34m[\u001b[0m\u001b[0;34m:\u001b[0m\u001b[0;34m,\u001b[0m \u001b[0mi\u001b[0m\u001b[0;34m]\u001b[0m\u001b[0;34m,\u001b[0m \u001b[0my_pred\u001b[0m\u001b[0;34m[\u001b[0m\u001b[0;34m:\u001b[0m\u001b[0;34m,\u001b[0m \u001b[0mi\u001b[0m\u001b[0;34m]\u001b[0m\u001b[0;34m)\u001b[0m \u001b[0;32mfor\u001b[0m \u001b[0mi\u001b[0m \u001b[0;32min\u001b[0m \u001b[0mrange\u001b[0m\u001b[0;34m(\u001b[0m\u001b[0my_test\u001b[0m\u001b[0;34m.\u001b[0m\u001b[0mshape\u001b[0m\u001b[0;34m[\u001b[0m\u001b[0;36m1\u001b[0m\u001b[0;34m]\u001b[0m\u001b[0;34m)\u001b[0m\u001b[0;34m]\u001b[0m\u001b[0;34m\u001b[0m\u001b[0;34m\u001b[0m\u001b[0m\n\u001b[1;32m      4\u001b[0m \u001b[0;34m\u001b[0m\u001b[0m\n\u001b[1;32m      5\u001b[0m \u001b[0;32mfor\u001b[0m \u001b[0mi\u001b[0m\u001b[0;34m,\u001b[0m \u001b[0mcol\u001b[0m \u001b[0;32min\u001b[0m \u001b[0menumerate\u001b[0m\u001b[0;34m(\u001b[0m\u001b[0my_test\u001b[0m\u001b[0;34m.\u001b[0m\u001b[0mcolumns\u001b[0m\u001b[0;34m)\u001b[0m\u001b[0;34m:\u001b[0m\u001b[0;34m\u001b[0m\u001b[0;34m\u001b[0m\u001b[0m\n",
            "\u001b[0;32m/usr/local/lib/python3.12/dist-packages/sklearn/utils/_param_validation.py\u001b[0m in \u001b[0;36mwrapper\u001b[0;34m(*args, **kwargs)\u001b[0m\n\u001b[1;32m    214\u001b[0m                     )\n\u001b[1;32m    215\u001b[0m                 ):\n\u001b[0;32m--> 216\u001b[0;31m                     \u001b[0;32mreturn\u001b[0m \u001b[0mfunc\u001b[0m\u001b[0;34m(\u001b[0m\u001b[0;34m*\u001b[0m\u001b[0margs\u001b[0m\u001b[0;34m,\u001b[0m \u001b[0;34m**\u001b[0m\u001b[0mkwargs\u001b[0m\u001b[0;34m)\u001b[0m\u001b[0;34m\u001b[0m\u001b[0;34m\u001b[0m\u001b[0m\n\u001b[0m\u001b[1;32m    217\u001b[0m             \u001b[0;32mexcept\u001b[0m \u001b[0mInvalidParameterError\u001b[0m \u001b[0;32mas\u001b[0m \u001b[0me\u001b[0m\u001b[0;34m:\u001b[0m\u001b[0;34m\u001b[0m\u001b[0;34m\u001b[0m\u001b[0m\n\u001b[1;32m    218\u001b[0m                 \u001b[0;31m# When the function is just a wrapper around an estimator, we allow\u001b[0m\u001b[0;34m\u001b[0m\u001b[0;34m\u001b[0m\u001b[0m\n",
            "\u001b[0;32m/usr/local/lib/python3.12/dist-packages/sklearn/metrics/_regression.py\u001b[0m in \u001b[0;36mmean_absolute_error\u001b[0;34m(y_true, y_pred, sample_weight, multioutput)\u001b[0m\n\u001b[1;32m    275\u001b[0m \u001b[0;34m\u001b[0m\u001b[0m\n\u001b[1;32m    276\u001b[0m     _, y_true, y_pred, sample_weight, multioutput = (\n\u001b[0;32m--> 277\u001b[0;31m         _check_reg_targets_with_floating_dtype(\n\u001b[0m\u001b[1;32m    278\u001b[0m             \u001b[0my_true\u001b[0m\u001b[0;34m,\u001b[0m \u001b[0my_pred\u001b[0m\u001b[0;34m,\u001b[0m \u001b[0msample_weight\u001b[0m\u001b[0;34m,\u001b[0m \u001b[0mmultioutput\u001b[0m\u001b[0;34m,\u001b[0m \u001b[0mxp\u001b[0m\u001b[0;34m=\u001b[0m\u001b[0mxp\u001b[0m\u001b[0;34m\u001b[0m\u001b[0;34m\u001b[0m\u001b[0m\n\u001b[1;32m    279\u001b[0m         )\n",
            "\u001b[0;32m/usr/local/lib/python3.12/dist-packages/sklearn/metrics/_regression.py\u001b[0m in \u001b[0;36m_check_reg_targets_with_floating_dtype\u001b[0;34m(y_true, y_pred, sample_weight, multioutput, xp)\u001b[0m\n\u001b[1;32m    196\u001b[0m     \u001b[0mdtype_name\u001b[0m \u001b[0;34m=\u001b[0m \u001b[0m_find_matching_floating_dtype\u001b[0m\u001b[0;34m(\u001b[0m\u001b[0my_true\u001b[0m\u001b[0;34m,\u001b[0m \u001b[0my_pred\u001b[0m\u001b[0;34m,\u001b[0m \u001b[0msample_weight\u001b[0m\u001b[0;34m,\u001b[0m \u001b[0mxp\u001b[0m\u001b[0;34m=\u001b[0m\u001b[0mxp\u001b[0m\u001b[0;34m)\u001b[0m\u001b[0;34m\u001b[0m\u001b[0;34m\u001b[0m\u001b[0m\n\u001b[1;32m    197\u001b[0m \u001b[0;34m\u001b[0m\u001b[0m\n\u001b[0;32m--> 198\u001b[0;31m     y_type, y_true, y_pred, multioutput = _check_reg_targets(\n\u001b[0m\u001b[1;32m    199\u001b[0m         \u001b[0my_true\u001b[0m\u001b[0;34m,\u001b[0m \u001b[0my_pred\u001b[0m\u001b[0;34m,\u001b[0m \u001b[0mmultioutput\u001b[0m\u001b[0;34m,\u001b[0m \u001b[0mdtype\u001b[0m\u001b[0;34m=\u001b[0m\u001b[0mdtype_name\u001b[0m\u001b[0;34m,\u001b[0m \u001b[0mxp\u001b[0m\u001b[0;34m=\u001b[0m\u001b[0mxp\u001b[0m\u001b[0;34m\u001b[0m\u001b[0;34m\u001b[0m\u001b[0m\n\u001b[1;32m    200\u001b[0m     )\n",
            "\u001b[0;32m/usr/local/lib/python3.12/dist-packages/sklearn/metrics/_regression.py\u001b[0m in \u001b[0;36m_check_reg_targets\u001b[0;34m(y_true, y_pred, multioutput, dtype, xp)\u001b[0m\n\u001b[1;32m    102\u001b[0m     \u001b[0mxp\u001b[0m\u001b[0;34m,\u001b[0m \u001b[0m_\u001b[0m \u001b[0;34m=\u001b[0m \u001b[0mget_namespace\u001b[0m\u001b[0;34m(\u001b[0m\u001b[0my_true\u001b[0m\u001b[0;34m,\u001b[0m \u001b[0my_pred\u001b[0m\u001b[0;34m,\u001b[0m \u001b[0mmultioutput\u001b[0m\u001b[0;34m,\u001b[0m \u001b[0mxp\u001b[0m\u001b[0;34m=\u001b[0m\u001b[0mxp\u001b[0m\u001b[0;34m)\u001b[0m\u001b[0;34m\u001b[0m\u001b[0;34m\u001b[0m\u001b[0m\n\u001b[1;32m    103\u001b[0m \u001b[0;34m\u001b[0m\u001b[0m\n\u001b[0;32m--> 104\u001b[0;31m     \u001b[0mcheck_consistent_length\u001b[0m\u001b[0;34m(\u001b[0m\u001b[0my_true\u001b[0m\u001b[0;34m,\u001b[0m \u001b[0my_pred\u001b[0m\u001b[0;34m)\u001b[0m\u001b[0;34m\u001b[0m\u001b[0;34m\u001b[0m\u001b[0m\n\u001b[0m\u001b[1;32m    105\u001b[0m     \u001b[0my_true\u001b[0m \u001b[0;34m=\u001b[0m \u001b[0mcheck_array\u001b[0m\u001b[0;34m(\u001b[0m\u001b[0my_true\u001b[0m\u001b[0;34m,\u001b[0m \u001b[0mensure_2d\u001b[0m\u001b[0;34m=\u001b[0m\u001b[0;32mFalse\u001b[0m\u001b[0;34m,\u001b[0m \u001b[0mdtype\u001b[0m\u001b[0;34m=\u001b[0m\u001b[0mdtype\u001b[0m\u001b[0;34m)\u001b[0m\u001b[0;34m\u001b[0m\u001b[0;34m\u001b[0m\u001b[0m\n\u001b[1;32m    106\u001b[0m     \u001b[0my_pred\u001b[0m \u001b[0;34m=\u001b[0m \u001b[0mcheck_array\u001b[0m\u001b[0;34m(\u001b[0m\u001b[0my_pred\u001b[0m\u001b[0;34m,\u001b[0m \u001b[0mensure_2d\u001b[0m\u001b[0;34m=\u001b[0m\u001b[0;32mFalse\u001b[0m\u001b[0;34m,\u001b[0m \u001b[0mdtype\u001b[0m\u001b[0;34m=\u001b[0m\u001b[0mdtype\u001b[0m\u001b[0;34m)\u001b[0m\u001b[0;34m\u001b[0m\u001b[0;34m\u001b[0m\u001b[0m\n",
            "\u001b[0;32m/usr/local/lib/python3.12/dist-packages/sklearn/utils/validation.py\u001b[0m in \u001b[0;36mcheck_consistent_length\u001b[0;34m(*arrays)\u001b[0m\n\u001b[1;32m    473\u001b[0m     \u001b[0muniques\u001b[0m \u001b[0;34m=\u001b[0m \u001b[0mnp\u001b[0m\u001b[0;34m.\u001b[0m\u001b[0munique\u001b[0m\u001b[0;34m(\u001b[0m\u001b[0mlengths\u001b[0m\u001b[0;34m)\u001b[0m\u001b[0;34m\u001b[0m\u001b[0;34m\u001b[0m\u001b[0m\n\u001b[1;32m    474\u001b[0m     \u001b[0;32mif\u001b[0m \u001b[0mlen\u001b[0m\u001b[0;34m(\u001b[0m\u001b[0muniques\u001b[0m\u001b[0;34m)\u001b[0m \u001b[0;34m>\u001b[0m \u001b[0;36m1\u001b[0m\u001b[0;34m:\u001b[0m\u001b[0;34m\u001b[0m\u001b[0;34m\u001b[0m\u001b[0m\n\u001b[0;32m--> 475\u001b[0;31m         raise ValueError(\n\u001b[0m\u001b[1;32m    476\u001b[0m             \u001b[0;34m\"Found input variables with inconsistent numbers of samples: %r\"\u001b[0m\u001b[0;34m\u001b[0m\u001b[0;34m\u001b[0m\u001b[0m\n\u001b[1;32m    477\u001b[0m             \u001b[0;34m%\u001b[0m \u001b[0;34m[\u001b[0m\u001b[0mint\u001b[0m\u001b[0;34m(\u001b[0m\u001b[0ml\u001b[0m\u001b[0;34m)\u001b[0m \u001b[0;32mfor\u001b[0m \u001b[0ml\u001b[0m \u001b[0;32min\u001b[0m \u001b[0mlengths\u001b[0m\u001b[0;34m]\u001b[0m\u001b[0;34m\u001b[0m\u001b[0;34m\u001b[0m\u001b[0m\n",
            "\u001b[0;31mValueError\u001b[0m: Found input variables with inconsistent numbers of samples: [56532, 60570]"
          ]
        }
      ]
    },
    {
      "cell_type": "code",
      "source": [
        "from sklearn.metrics import mean_absolute_error, r2_score\n",
        "\n",
        "for h, model in models.items():\n",
        "    y_h = df[f\"arrival_delay_t+{h}\"].dropna()\n",
        "    X_h = X.loc[y_h.index]\n",
        "\n",
        "    # dela data (train/test)\n",
        "    split = int(len(X_h) * 0.8)\n",
        "    X_train_h, X_test_h = X_h.iloc[:split], X_h.iloc[split:]\n",
        "    y_train_h, y_test_h = y_h.iloc[:split], y_h.iloc[split:]\n",
        "\n",
        "    # prediktera\n",
        "    y_pred_h = model.predict(X_test_h)\n",
        "\n",
        "    # utvärdera\n",
        "    mae = mean_absolute_error(y_test_h, y_pred_h)\n",
        "    r2 = r2_score(y_test_h, y_pred_h)\n",
        "    print(f\"t+{h}: MAE={mae:.2f}, R²={r2:.3f}\")\n"
      ],
      "metadata": {
        "colab": {
          "base_uri": "https://localhost:8080/"
        },
        "id": "wM6pjx2t6GKE",
        "outputId": "782d584b-6865-4ea2-cef5-0c27ce519e14"
      },
      "execution_count": 169,
      "outputs": [
        {
          "output_type": "stream",
          "name": "stdout",
          "text": [
            "t+1: MAE=18.31, R²=0.978\n",
            "t+3: MAE=32.48, R²=0.937\n",
            "t+6: MAE=46.89, R²=0.877\n",
            "t+12: MAE=70.30, R²=0.747\n"
          ]
        }
      ]
    },
    {
      "cell_type": "code",
      "source": [
        "#evaluate\n",
        "\n",
        "mae = mean_absolute_error(y_test, y_pred, multioutput='raw_values')\n",
        "for col, score in zip(y.columns, mae):\n",
        "    print(f\"MAE for {col}: {score:.2f}\")"
      ],
      "metadata": {
        "colab": {
          "base_uri": "https://localhost:8080/",
          "height": 472
        },
        "id": "roGPGtI6op88",
        "outputId": "7ded2ee2-2991-4975-9ffb-c3d4984c5e80"
      },
      "execution_count": 168,
      "outputs": [
        {
          "output_type": "error",
          "ename": "ValueError",
          "evalue": "Found input variables with inconsistent numbers of samples: [56532, 60570]",
          "traceback": [
            "\u001b[0;31m---------------------------------------------------------------------------\u001b[0m",
            "\u001b[0;31mValueError\u001b[0m                                Traceback (most recent call last)",
            "\u001b[0;32m/tmp/ipython-input-3327569572.py\u001b[0m in \u001b[0;36m<cell line: 0>\u001b[0;34m()\u001b[0m\n\u001b[1;32m      1\u001b[0m \u001b[0;31m#evaluate\u001b[0m\u001b[0;34m\u001b[0m\u001b[0;34m\u001b[0m\u001b[0m\n\u001b[1;32m      2\u001b[0m \u001b[0;34m\u001b[0m\u001b[0m\n\u001b[0;32m----> 3\u001b[0;31m \u001b[0mmae\u001b[0m \u001b[0;34m=\u001b[0m \u001b[0mmean_absolute_error\u001b[0m\u001b[0;34m(\u001b[0m\u001b[0my_test\u001b[0m\u001b[0;34m,\u001b[0m \u001b[0my_pred\u001b[0m\u001b[0;34m,\u001b[0m \u001b[0mmultioutput\u001b[0m\u001b[0;34m=\u001b[0m\u001b[0;34m'raw_values'\u001b[0m\u001b[0;34m)\u001b[0m\u001b[0;34m\u001b[0m\u001b[0;34m\u001b[0m\u001b[0m\n\u001b[0m\u001b[1;32m      4\u001b[0m \u001b[0;32mfor\u001b[0m \u001b[0mcol\u001b[0m\u001b[0;34m,\u001b[0m \u001b[0mscore\u001b[0m \u001b[0;32min\u001b[0m \u001b[0mzip\u001b[0m\u001b[0;34m(\u001b[0m\u001b[0my\u001b[0m\u001b[0;34m.\u001b[0m\u001b[0mcolumns\u001b[0m\u001b[0;34m,\u001b[0m \u001b[0mmae\u001b[0m\u001b[0;34m)\u001b[0m\u001b[0;34m:\u001b[0m\u001b[0;34m\u001b[0m\u001b[0;34m\u001b[0m\u001b[0m\n\u001b[1;32m      5\u001b[0m     \u001b[0mprint\u001b[0m\u001b[0;34m(\u001b[0m\u001b[0;34mf\"MAE for {col}: {score:.2f}\"\u001b[0m\u001b[0;34m)\u001b[0m\u001b[0;34m\u001b[0m\u001b[0;34m\u001b[0m\u001b[0m\n",
            "\u001b[0;32m/usr/local/lib/python3.12/dist-packages/sklearn/utils/_param_validation.py\u001b[0m in \u001b[0;36mwrapper\u001b[0;34m(*args, **kwargs)\u001b[0m\n\u001b[1;32m    214\u001b[0m                     )\n\u001b[1;32m    215\u001b[0m                 ):\n\u001b[0;32m--> 216\u001b[0;31m                     \u001b[0;32mreturn\u001b[0m \u001b[0mfunc\u001b[0m\u001b[0;34m(\u001b[0m\u001b[0;34m*\u001b[0m\u001b[0margs\u001b[0m\u001b[0;34m,\u001b[0m \u001b[0;34m**\u001b[0m\u001b[0mkwargs\u001b[0m\u001b[0;34m)\u001b[0m\u001b[0;34m\u001b[0m\u001b[0;34m\u001b[0m\u001b[0m\n\u001b[0m\u001b[1;32m    217\u001b[0m             \u001b[0;32mexcept\u001b[0m \u001b[0mInvalidParameterError\u001b[0m \u001b[0;32mas\u001b[0m \u001b[0me\u001b[0m\u001b[0;34m:\u001b[0m\u001b[0;34m\u001b[0m\u001b[0;34m\u001b[0m\u001b[0m\n\u001b[1;32m    218\u001b[0m                 \u001b[0;31m# When the function is just a wrapper around an estimator, we allow\u001b[0m\u001b[0;34m\u001b[0m\u001b[0;34m\u001b[0m\u001b[0m\n",
            "\u001b[0;32m/usr/local/lib/python3.12/dist-packages/sklearn/metrics/_regression.py\u001b[0m in \u001b[0;36mmean_absolute_error\u001b[0;34m(y_true, y_pred, sample_weight, multioutput)\u001b[0m\n\u001b[1;32m    275\u001b[0m \u001b[0;34m\u001b[0m\u001b[0m\n\u001b[1;32m    276\u001b[0m     _, y_true, y_pred, sample_weight, multioutput = (\n\u001b[0;32m--> 277\u001b[0;31m         _check_reg_targets_with_floating_dtype(\n\u001b[0m\u001b[1;32m    278\u001b[0m             \u001b[0my_true\u001b[0m\u001b[0;34m,\u001b[0m \u001b[0my_pred\u001b[0m\u001b[0;34m,\u001b[0m \u001b[0msample_weight\u001b[0m\u001b[0;34m,\u001b[0m \u001b[0mmultioutput\u001b[0m\u001b[0;34m,\u001b[0m \u001b[0mxp\u001b[0m\u001b[0;34m=\u001b[0m\u001b[0mxp\u001b[0m\u001b[0;34m\u001b[0m\u001b[0;34m\u001b[0m\u001b[0m\n\u001b[1;32m    279\u001b[0m         )\n",
            "\u001b[0;32m/usr/local/lib/python3.12/dist-packages/sklearn/metrics/_regression.py\u001b[0m in \u001b[0;36m_check_reg_targets_with_floating_dtype\u001b[0;34m(y_true, y_pred, sample_weight, multioutput, xp)\u001b[0m\n\u001b[1;32m    196\u001b[0m     \u001b[0mdtype_name\u001b[0m \u001b[0;34m=\u001b[0m \u001b[0m_find_matching_floating_dtype\u001b[0m\u001b[0;34m(\u001b[0m\u001b[0my_true\u001b[0m\u001b[0;34m,\u001b[0m \u001b[0my_pred\u001b[0m\u001b[0;34m,\u001b[0m \u001b[0msample_weight\u001b[0m\u001b[0;34m,\u001b[0m \u001b[0mxp\u001b[0m\u001b[0;34m=\u001b[0m\u001b[0mxp\u001b[0m\u001b[0;34m)\u001b[0m\u001b[0;34m\u001b[0m\u001b[0;34m\u001b[0m\u001b[0m\n\u001b[1;32m    197\u001b[0m \u001b[0;34m\u001b[0m\u001b[0m\n\u001b[0;32m--> 198\u001b[0;31m     y_type, y_true, y_pred, multioutput = _check_reg_targets(\n\u001b[0m\u001b[1;32m    199\u001b[0m         \u001b[0my_true\u001b[0m\u001b[0;34m,\u001b[0m \u001b[0my_pred\u001b[0m\u001b[0;34m,\u001b[0m \u001b[0mmultioutput\u001b[0m\u001b[0;34m,\u001b[0m \u001b[0mdtype\u001b[0m\u001b[0;34m=\u001b[0m\u001b[0mdtype_name\u001b[0m\u001b[0;34m,\u001b[0m \u001b[0mxp\u001b[0m\u001b[0;34m=\u001b[0m\u001b[0mxp\u001b[0m\u001b[0;34m\u001b[0m\u001b[0;34m\u001b[0m\u001b[0m\n\u001b[1;32m    200\u001b[0m     )\n",
            "\u001b[0;32m/usr/local/lib/python3.12/dist-packages/sklearn/metrics/_regression.py\u001b[0m in \u001b[0;36m_check_reg_targets\u001b[0;34m(y_true, y_pred, multioutput, dtype, xp)\u001b[0m\n\u001b[1;32m    102\u001b[0m     \u001b[0mxp\u001b[0m\u001b[0;34m,\u001b[0m \u001b[0m_\u001b[0m \u001b[0;34m=\u001b[0m \u001b[0mget_namespace\u001b[0m\u001b[0;34m(\u001b[0m\u001b[0my_true\u001b[0m\u001b[0;34m,\u001b[0m \u001b[0my_pred\u001b[0m\u001b[0;34m,\u001b[0m \u001b[0mmultioutput\u001b[0m\u001b[0;34m,\u001b[0m \u001b[0mxp\u001b[0m\u001b[0;34m=\u001b[0m\u001b[0mxp\u001b[0m\u001b[0;34m)\u001b[0m\u001b[0;34m\u001b[0m\u001b[0;34m\u001b[0m\u001b[0m\n\u001b[1;32m    103\u001b[0m \u001b[0;34m\u001b[0m\u001b[0m\n\u001b[0;32m--> 104\u001b[0;31m     \u001b[0mcheck_consistent_length\u001b[0m\u001b[0;34m(\u001b[0m\u001b[0my_true\u001b[0m\u001b[0;34m,\u001b[0m \u001b[0my_pred\u001b[0m\u001b[0;34m)\u001b[0m\u001b[0;34m\u001b[0m\u001b[0;34m\u001b[0m\u001b[0m\n\u001b[0m\u001b[1;32m    105\u001b[0m     \u001b[0my_true\u001b[0m \u001b[0;34m=\u001b[0m \u001b[0mcheck_array\u001b[0m\u001b[0;34m(\u001b[0m\u001b[0my_true\u001b[0m\u001b[0;34m,\u001b[0m \u001b[0mensure_2d\u001b[0m\u001b[0;34m=\u001b[0m\u001b[0;32mFalse\u001b[0m\u001b[0;34m,\u001b[0m \u001b[0mdtype\u001b[0m\u001b[0;34m=\u001b[0m\u001b[0mdtype\u001b[0m\u001b[0;34m)\u001b[0m\u001b[0;34m\u001b[0m\u001b[0;34m\u001b[0m\u001b[0m\n\u001b[1;32m    106\u001b[0m     \u001b[0my_pred\u001b[0m \u001b[0;34m=\u001b[0m \u001b[0mcheck_array\u001b[0m\u001b[0;34m(\u001b[0m\u001b[0my_pred\u001b[0m\u001b[0;34m,\u001b[0m \u001b[0mensure_2d\u001b[0m\u001b[0;34m=\u001b[0m\u001b[0;32mFalse\u001b[0m\u001b[0;34m,\u001b[0m \u001b[0mdtype\u001b[0m\u001b[0;34m=\u001b[0m\u001b[0mdtype\u001b[0m\u001b[0;34m)\u001b[0m\u001b[0;34m\u001b[0m\u001b[0;34m\u001b[0m\u001b[0m\n",
            "\u001b[0;32m/usr/local/lib/python3.12/dist-packages/sklearn/utils/validation.py\u001b[0m in \u001b[0;36mcheck_consistent_length\u001b[0;34m(*arrays)\u001b[0m\n\u001b[1;32m    473\u001b[0m     \u001b[0muniques\u001b[0m \u001b[0;34m=\u001b[0m \u001b[0mnp\u001b[0m\u001b[0;34m.\u001b[0m\u001b[0munique\u001b[0m\u001b[0;34m(\u001b[0m\u001b[0mlengths\u001b[0m\u001b[0;34m)\u001b[0m\u001b[0;34m\u001b[0m\u001b[0;34m\u001b[0m\u001b[0m\n\u001b[1;32m    474\u001b[0m     \u001b[0;32mif\u001b[0m \u001b[0mlen\u001b[0m\u001b[0;34m(\u001b[0m\u001b[0muniques\u001b[0m\u001b[0;34m)\u001b[0m \u001b[0;34m>\u001b[0m \u001b[0;36m1\u001b[0m\u001b[0;34m:\u001b[0m\u001b[0;34m\u001b[0m\u001b[0;34m\u001b[0m\u001b[0m\n\u001b[0;32m--> 475\u001b[0;31m         raise ValueError(\n\u001b[0m\u001b[1;32m    476\u001b[0m             \u001b[0;34m\"Found input variables with inconsistent numbers of samples: %r\"\u001b[0m\u001b[0;34m\u001b[0m\u001b[0;34m\u001b[0m\u001b[0m\n\u001b[1;32m    477\u001b[0m             \u001b[0;34m%\u001b[0m \u001b[0;34m[\u001b[0m\u001b[0mint\u001b[0m\u001b[0;34m(\u001b[0m\u001b[0ml\u001b[0m\u001b[0;34m)\u001b[0m \u001b[0;32mfor\u001b[0m \u001b[0ml\u001b[0m \u001b[0;32min\u001b[0m \u001b[0mlengths\u001b[0m\u001b[0;34m]\u001b[0m\u001b[0;34m\u001b[0m\u001b[0;34m\u001b[0m\u001b[0m\n",
            "\u001b[0;31mValueError\u001b[0m: Found input variables with inconsistent numbers of samples: [56532, 60570]"
          ]
        }
      ]
    },
    {
      "cell_type": "markdown",
      "source": [
        "KNN\n",
        "- MAE for arrival_delay_t+1: 27.19\n",
        "- MAE for arrival_delay_t+3: 43.65\n",
        "- MAE for arrival_delay_t+6: 61.55\n",
        "- MAE for arrival_delay_t+12: 88.90\n",
        "\n",
        "single output\n",
        "- t+1: MAE=18.31, R²=0.978\n",
        "- t+3: MAE=32.48, R²=0.937\n",
        "- t+6: MAE=46.89, R²=0.877\n",
        "- t+12: MAE=70.30, R²=0.747\n",
        "\n",
        "RF\n",
        "- MAE for arrival_delay_t+1: 20.42\n",
        "- MAE for arrival_delay_t+3: 37.31\n",
        "- MAE for arrival_delay_t+6: 55.17\n",
        "- MAE for arrival_delay_t+12: 81.35\n",
        "\n",
        "XGBoost\n",
        "- arrival_delay_t+1: MAE=19.95, R²=0.922\n",
        "- arrival_delay_t+3: MAE=36.88, R²=0.878\n",
        "- arrival_delay_t+6: MAE=54.21, R²=0.820\n",
        "- arrival_delay_t+12: MAE=80.16, R²=0.725"
      ],
      "metadata": {
        "id": "9bCzBNwa8AN3"
      }
    },
    {
      "cell_type": "code",
      "source": [
        "# MAE/r2 över prediktionshorisonter: Visar hur prognosprecisionen försämras längre fram i rutten\n",
        "horizons = [1, 3, 6, 12]\n",
        "mae = mean_absolute_error(y_test, y_pred, multioutput='raw_values')\n",
        "r2 = [r2_score(y_test.iloc[:,i], y_pred[:,i]) for i in range(len(horizons))]\n",
        "\n",
        "fig, ax1 = plt.subplots(figsize=(8,5))\n",
        "ax1.plot(horizons, mae, marker='o', label='MAE')\n",
        "ax1.set_xlabel(\"Stops ahead\")\n",
        "ax1.set_ylabel(\"MAE (s)\", color='tab:blue')\n",
        "ax2 = ax1.twinx()\n",
        "ax2.plot(horizons, r2, marker='s', color='tab:red', label='R²')\n",
        "ax2.set_ylabel(\"R²\", color='tab:red')\n",
        "plt.title(\"Prediction accuracy by horizon\")\n",
        "plt.show()"
      ],
      "metadata": {
        "id": "xFYS_h6Cet1e"
      },
      "execution_count": null,
      "outputs": []
    },
    {
      "cell_type": "code",
      "source": [
        "#Korrelation mellan faktisk och predikterad försening per horisont\n",
        "import seaborn as sns\n",
        "for i, h in enumerate([1,3,6,12]):\n",
        "    sns.scatterplot(x=y_test.iloc[:,i], y=y_pred[:,i])\n",
        "    plt.title(f\"Actual vs Predicted delay (t+{h})\")\n",
        "    plt.xlabel(\"Actual delay (s)\")\n",
        "    plt.ylabel(\"Predicted delay (s)\")\n",
        "    plt.plot([0, max(y_test.iloc[:,i])],[0, max(y_test.iloc[:,i])],'r--')\n",
        "    plt.show()\n"
      ],
      "metadata": {
        "id": "SABPaf4Qe7T8"
      },
      "execution_count": null,
      "outputs": []
    },
    {
      "cell_type": "code",
      "source": [
        "#förseningens tillväxt längs rutten (delay propagation)\n",
        "#visar hur förseningar ackumuleras under resans gång och hur väl modellen följer detta\n",
        "#trip_id = df_vis[\"unique_trip\"].iloc[0]\n",
        "trip = df_vis[df_vis[\"unique_trip\"]].sort_values(\"stop_sequence\")\n",
        "\n",
        "plt.figure(figsize=(10,5))\n",
        "plt.plot(trip[\"stop_sequence\"], trip[\"arrival_delay\"], label=\"Actual\", marker='o')\n",
        "for i, h in enumerate([1,3,6,12]):\n",
        "    plt.plot(trip[\"stop_sequence\"], y_pred[:len(trip), i], '--', label=f\"Predicted t+{h}\")\n",
        "plt.xlabel(\"Stop sequence\")\n",
        "plt.ylabel(\"Delay (s)\")\n",
        "plt.title(f\"Delay propagation along trip\")\n",
        "plt.legend()\n",
        "plt.grid(True)\n",
        "plt.show()\n"
      ],
      "metadata": {
        "id": "qfy5b4msfvQQ"
      },
      "execution_count": null,
      "outputs": []
    },
    {
      "cell_type": "code",
      "source": [
        "plt.figure(figsize=(8,5))\n",
        "plt.plot([1,3,6,12], mae, marker='o', label='MAE')\n",
        "plt.title(\"XGBoost – MAE vs Prediction Horizon\")\n",
        "plt.xlabel(\"Stops Ahead\")\n",
        "plt.ylabel(\"Mean Absolute Error (s)\")\n",
        "plt.grid(True)\n",
        "plt.show()\n"
      ],
      "metadata": {
        "id": "xlSr-AvCwUkm"
      },
      "execution_count": null,
      "outputs": []
    },
    {
      "cell_type": "code",
      "source": [
        "# skapa en kategori från de one-hot-kodade väderkolumnerna\n",
        "weather_cols = [c for c in df_vis.columns if \"factor(weather)\" in c]\n",
        "df_vis[\"weather_category\"] = df_vis[weather_cols].idxmax(axis=1).str.replace(\"factor(weather)\", \"\")\n",
        "\n",
        "sns.boxplot(x=\"weather_category\", y=\"arrival_delay\", data=df_vis)\n",
        "plt.title(\"Arrival Delay by Weather Condition\")\n",
        "plt.show()\n"
      ],
      "metadata": {
        "id": "mi6c2BUWYm_i"
      },
      "execution_count": null,
      "outputs": []
    },
    {
      "cell_type": "code",
      "source": [
        "tod_cols = [c for c in df_vis.columns if \"factor(time_of_day)\" in c]\n",
        "df_vis[\"time_of_day_category\"] = df_vis[tod_cols].idxmax(axis=1).str.replace(\"factor(time_of_day)\", \"\")\n",
        "\n",
        "sns.boxplot(x=\"time_of_day_category\", y=\"arrival_delay\", data=df_vis)\n",
        "plt.title(\"Arrival Delay by Time of Day\")\n",
        "plt.show()\n"
      ],
      "metadata": {
        "id": "L4_5xSQ0Yw__"
      },
      "execution_count": null,
      "outputs": []
    },
    {
      "cell_type": "code",
      "source": [
        "dow_cols = [c for c in df_vis.columns if \"factor(day_of_week)\" in c]\n",
        "df_vis[\"day_category\"] = df_vis[dow_cols].idxmax(axis=1).str.replace(\"factor(day_of_week)\", \"\")\n",
        "\n",
        "sns.boxplot(x=\"day_category\", y=\"arrival_delay\", data=df_vis)\n",
        "plt.title(\"Arrival Delay by Weekday/Weekend\")\n",
        "plt.show()\n"
      ],
      "metadata": {
        "id": "ctt2LVSbY3vh"
      },
      "execution_count": null,
      "outputs": []
    },
    {
      "cell_type": "code",
      "source": [
        "mean_growth = df_vis.groupby(\"stop_sequence\")[\"delay_growth\"].mean()\n",
        "plt.plot(mean_growth.index, mean_growth.values)\n"
      ],
      "metadata": {
        "id": "SCvO0ImVadiO"
      },
      "execution_count": null,
      "outputs": []
    },
    {
      "cell_type": "code",
      "source": [
        "sns.boxplot(x=\"factor(weather)Rain\", y=\"delay_growth\", data=df_vis)\n",
        "sns.boxplot(x=\"factor(time_of_day)Morning_peak\", y=\"delay_growth\", data=df_vis)\n"
      ],
      "metadata": {
        "id": "rfuWycpXaffF"
      },
      "execution_count": null,
      "outputs": []
    },
    {
      "cell_type": "code",
      "source": [
        "corrs = df_vis.groupby(\"stop_sequence\")[[\"delay_growth\", \"factor(weather)Rain\", \"factor(time_of_day)Morning_peak\"]].corr().unstack().iloc[:,1]\n",
        "plt.plot(corrs.index.get_level_values(0), corrs.values)\n"
      ],
      "metadata": {
        "id": "US7zATvneCZI"
      },
      "execution_count": null,
      "outputs": []
    },
    {
      "cell_type": "code",
      "source": [
        "pivot = df_vis.pivot_table(values=\"arrival_delay\", index=\"unique_trip\", columns=\"stop_sequence\")\n",
        "sns.heatmap(pivot, cmap=\"coolwarm\", cbar_kws={'label': 'Delay (s)'})\n"
      ],
      "metadata": {
        "id": "4aWrIyu7d8Uh"
      },
      "execution_count": null,
      "outputs": []
    },
    {
      "cell_type": "code",
      "source": [
        "#visualization\n",
        "#Horizon performance\n",
        "plt.figure(figsize=(10,6))\n",
        "plt.plot([1,3,6,12], mae, marker='o')\n",
        "plt.title(\"MAE vs Prediction Horizon (Stops Ahead)\")\n",
        "plt.xlabel(\"Stops Ahead\")\n",
        "plt.ylabel(\"Mean Absolute Error (s)\")\n",
        "plt.grid(True)\n",
        "plt.show()"
      ],
      "metadata": {
        "id": "F4duVljHor94"
      },
      "execution_count": null,
      "outputs": []
    },
    {
      "cell_type": "code",
      "source": [
        "#r2-fall över horisonter\n",
        "r2_scores = [r2_score(y_test.iloc[:, i], y_pred[:, i]) for i in range(y.shape[1])]\n",
        "plt.plot([1,3,6,12], r2_scores, marker='o')\n",
        "plt.title(\"R² per Horizon\")\n",
        "plt.xlabel(\"Stops Ahead\")\n",
        "plt.ylabel(\"R²\")\n",
        "plt.grid(True)\n",
        "plt.show()\n"
      ],
      "metadata": {
        "id": "aP90nwCv47nx"
      },
      "execution_count": null,
      "outputs": []
    },
    {
      "cell_type": "code",
      "source": [
        "#delay propagation (för några turer)\n",
        "trip_example = df_vis[df_vis['unique_trip'].isin(df_vis['unique_trip'].unique()[:3])]\n",
        "sns.lineplot(data=trip_example, x='stop_sequence', y='arrival_delay', hue='unique_trip')\n",
        "plt.title(\"Delay Propagation Along Stops\")\n",
        "plt.show()"
      ],
      "metadata": {
        "id": "YQRhhjCe4-3V"
      },
      "execution_count": null,
      "outputs": []
    },
    {
      "cell_type": "code",
      "source": [
        "#feature importance\n",
        "importances = model.feature_importances_\n",
        "feat_imp = pd.Series(importances, index=X.columns).sort_values(ascending=False)\n",
        "feat_imp.head(15).plot(kind='barh', figsize=(8,6))\n",
        "plt.title(\"Top 15 Feature Importances\")\n",
        "plt.show()\n",
        "\n"
      ],
      "metadata": {
        "id": "zMwrxIqj5DZ8"
      },
      "execution_count": null,
      "outputs": []
    },
    {
      "cell_type": "code",
      "source": [
        "#kontextanalys\n",
        "sns.boxplot(x='factor(weather)', y='arrival_delay', data=df_vis)\n",
        "plt.title(\"Arrival Delay by Weather Condition\")\n",
        "plt.show()\n",
        "\n",
        "sns.boxplot(x='factor(day_of_week)', y='arrival_delay', data=df_vis)\n",
        "plt.title(\"Arrival Delay by Day Type\")\n",
        "plt.show()\n"
      ],
      "metadata": {
        "id": "9E-9XFCf5J2q"
      },
      "execution_count": null,
      "outputs": []
    },
    {
      "cell_type": "code",
      "source": [
        "# skapa samma features som vid modellträning\n",
        "trip_id = df[\"unique_trip\"].iloc[0]\n",
        "trip_data = df[df[\"unique_trip\"] == trip_id].sort_values(\"stop_sequence\")\n",
        "\n",
        "# ta bara kolumner som användes i modellen\n",
        "trip_X = trip_data[X.columns.intersection(trip_data.columns)].copy()\n",
        "\n",
        "# eventuellt skapa dummies på samma sätt som innan\n",
        "trip_X = pd.get_dummies(trip_X)\n",
        "trip_X = trip_X.reindex(columns=X.columns, fill_value=0)\n",
        "\n",
        "# prediktion\n",
        "y_trip_pred = model.predict(trip_X)\n"
      ],
      "metadata": {
        "id": "pHifx-EDjXc7"
      },
      "execution_count": null,
      "outputs": []
    },
    {
      "cell_type": "code",
      "source": [
        "plt.figure(figsize=(12, 8))\n",
        "for i, col in enumerate(y.columns):\n",
        "    plt.subplot(2, 2, i+1)\n",
        "    plt.scatter(y_test[col], y_pred[:, i], alpha=0.4)\n",
        "    plt.plot([y_test[col].min(), y_test[col].max()],\n",
        "             [y_test[col].min(), y_test[col].max()],\n",
        "             \"r--\")\n",
        "    plt.xlabel(\"Actual\")\n",
        "    plt.ylabel(\"Predicted\")\n",
        "    plt.title(f\"{col} | R² = {r2_score(y_test[col], y_pred[:, i]):.2f}\")\n",
        "plt.tight_layout()\n",
        "plt.show()"
      ],
      "metadata": {
        "id": "4L9T4Mk_8Yix"
      },
      "execution_count": null,
      "outputs": []
    },
    {
      "cell_type": "code",
      "source": [
        "#distributioncheck\n",
        "fig, axes = plt.subplots(len(targets), 1, figsize=(8, 16))\n",
        "for i, col in enumerate(targets):\n",
        "    sns.histplot(df_h[col], bins=50, kde=True, ax=axes[i])\n",
        "    axes[i].set_title(f\"Distribution of {col}\")\n",
        "plt.tight_layout()\n",
        "plt.show()"
      ],
      "metadata": {
        "id": "rQ0vNgyPovOE"
      },
      "execution_count": null,
      "outputs": []
    },
    {
      "cell_type": "code",
      "source": [
        "import pandas as pd\n",
        "import matplotlib.pyplot as plt\n",
        "\n",
        "importances = model.feature_importances_\n",
        "feat_imp = pd.Series(importances, index=X.columns).sort_values(ascending=False)\n",
        "\n",
        "plt.figure(figsize=(8,5))\n",
        "feat_imp.head(15).plot(kind='bar')\n",
        "plt.title(\"Top 15 Feature Importances\")\n",
        "plt.show()\n"
      ],
      "metadata": {
        "id": "lb7Khqh0op3b"
      },
      "execution_count": null,
      "outputs": []
    },
    {
      "cell_type": "markdown",
      "source": [
        "MAE = the average absolute difference between the models predictions and the actual delay\n",
        "\n",
        "- MAE for delay_t+1_stop: 34.00\n",
        "- MAE for delay_t+3_stop: 46.54\n",
        "- MAE for delay_t+6_stop: 54.66\n",
        "- MAE for delay_t+12_stop: 56.01\n",
        "\n",
        "This means that on average, the prediction for the next stop is off by 34 seconds.\n",
        "\n",
        "Interpretations:\n",
        "- Errors grow as the horizon length increases, which is expected since uncertainty accumulates further into the future\n"
      ],
      "metadata": {
        "id": "I8GGveLm7txn"
      }
    },
    {
      "cell_type": "code",
      "source": [],
      "metadata": {
        "id": "B8PdJIRtM02_"
      },
      "execution_count": null,
      "outputs": []
    },
    {
      "cell_type": "markdown",
      "source": [
        "#Visualization"
      ],
      "metadata": {
        "id": "GIPyAxR6NL1j"
      }
    },
    {
      "cell_type": "markdown",
      "source": [
        "- *points above the line = overestimations, below = underestimations*"
      ],
      "metadata": {
        "id": "jBzR7Y8HODZE"
      }
    }
  ]
}