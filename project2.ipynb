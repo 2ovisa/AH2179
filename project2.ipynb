{
  "nbformat": 4,
  "nbformat_minor": 0,
  "metadata": {
    "colab": {
      "provenance": [],
      "authorship_tag": "ABX9TyMkJNtt/OXsE1ZHVkW0P1GB",
      "include_colab_link": true
    },
    "kernelspec": {
      "name": "python3",
      "display_name": "Python 3"
    },
    "language_info": {
      "name": "python"
    }
  },
  "cells": [
    {
      "cell_type": "markdown",
      "metadata": {
        "id": "view-in-github",
        "colab_type": "text"
      },
      "source": [
        "<a href=\"https://colab.research.google.com/github/2ovisa/AH2179/blob/main/project2.ipynb\" target=\"_parent\"><img src=\"https://colab.research.google.com/assets/colab-badge.svg\" alt=\"Open In Colab\"/></a>"
      ]
    },
    {
      "cell_type": "markdown",
      "source": [
        "#Stop ahead prediction\n",
        "- intressant för resenärer att veta hur stor förseningen blir vid sitt stop\n",
        "- intressant för resenärer att veta hur stor förseningen är vid sin påstigande station"
      ],
      "metadata": {
        "id": "8zgv_111ILlV"
      }
    },
    {
      "cell_type": "code",
      "execution_count": 7,
      "metadata": {
        "id": "M6U2Qaqd29AC",
        "colab": {
          "base_uri": "https://localhost:8080/"
        },
        "outputId": "9ec610e4-c97e-4be3-ed10-02cd4768c16a"
      },
      "outputs": [
        {
          "output_type": "stream",
          "name": "stderr",
          "text": [
            "/tmp/ipython-input-1390479708.py:12: FutureWarning: Setting an item of incompatible dtype is deprecated and will raise in a future error of pandas. Value '0         20220108.0\n",
            "1         20220108.0\n",
            "2         20220108.0\n",
            "3         20220108.0\n",
            "4         20220108.0\n",
            "             ...    \n",
            "545098    20220630.0\n",
            "545099    20220630.0\n",
            "545100    20220630.0\n",
            "545101    20220630.0\n",
            "545102    20220630.0\n",
            "Name: Calendar_date, Length: 545103, dtype: float64' has dtype incompatible with int64, please explicitly cast to a compatible dtype first.\n",
            "  df.iloc[:, 0:14] = df.iloc[:, 0:14].astype(float)\n",
            "/tmp/ipython-input-1390479708.py:12: FutureWarning: Setting an item of incompatible dtype is deprecated and will raise in a future error of pandas. Value '0         4.0\n",
            "1         4.0\n",
            "2         4.0\n",
            "3         4.0\n",
            "4         4.0\n",
            "         ... \n",
            "545098    4.0\n",
            "545099    4.0\n",
            "545100    4.0\n",
            "545101    4.0\n",
            "545102    4.0\n",
            "Name: route_id, Length: 545103, dtype: float64' has dtype incompatible with int64, please explicitly cast to a compatible dtype first.\n",
            "  df.iloc[:, 0:14] = df.iloc[:, 0:14].astype(float)\n",
            "/tmp/ipython-input-1390479708.py:12: FutureWarning: Setting an item of incompatible dtype is deprecated and will raise in a future error of pandas. Value '0         41344.0\n",
            "1         41344.0\n",
            "2         41344.0\n",
            "3         41344.0\n",
            "4         41344.0\n",
            "           ...   \n",
            "545098    41362.0\n",
            "545099    41362.0\n",
            "545100    41362.0\n",
            "545101    41362.0\n",
            "545102    41362.0\n",
            "Name: bus_id, Length: 545103, dtype: float64' has dtype incompatible with int64, please explicitly cast to a compatible dtype first.\n",
            "  df.iloc[:, 0:14] = df.iloc[:, 0:14].astype(float)\n",
            "/tmp/ipython-input-1390479708.py:12: FutureWarning: Setting an item of incompatible dtype is deprecated and will raise in a future error of pandas. Value '0          1.0\n",
            "1          2.0\n",
            "2          3.0\n",
            "3          4.0\n",
            "4          5.0\n",
            "          ... \n",
            "545098    23.0\n",
            "545099    24.0\n",
            "545100    25.0\n",
            "545101    26.0\n",
            "545102    27.0\n",
            "Name: stop_sequence, Length: 545103, dtype: float64' has dtype incompatible with int64, please explicitly cast to a compatible dtype first.\n",
            "  df.iloc[:, 0:14] = df.iloc[:, 0:14].astype(float)\n",
            "/tmp/ipython-input-1390479708.py:12: FutureWarning: Setting an item of incompatible dtype is deprecated and will raise in a future error of pandas. Value '0         151.0\n",
            "1         185.0\n",
            "2         186.0\n",
            "3         202.0\n",
            "4         242.0\n",
            "          ...  \n",
            "545098    344.0\n",
            "545099    330.0\n",
            "545100    339.0\n",
            "545101    331.0\n",
            "545102    264.0\n",
            "Name: arrival_delay, Length: 545103, dtype: float64' has dtype incompatible with int64, please explicitly cast to a compatible dtype first.\n",
            "  df.iloc[:, 0:14] = df.iloc[:, 0:14].astype(float)\n",
            "/tmp/ipython-input-1390479708.py:12: FutureWarning: Setting an item of incompatible dtype is deprecated and will raise in a future error of pandas. Value '0          0.0\n",
            "1         24.0\n",
            "2          0.0\n",
            "3         12.0\n",
            "4         21.0\n",
            "          ... \n",
            "545098    13.0\n",
            "545099    15.0\n",
            "545100    17.0\n",
            "545101     0.0\n",
            "545102     0.0\n",
            "Name: dwell_time, Length: 545103, dtype: float64' has dtype incompatible with int64, please explicitly cast to a compatible dtype first.\n",
            "  df.iloc[:, 0:14] = df.iloc[:, 0:14].astype(float)\n",
            "/tmp/ipython-input-1390479708.py:12: FutureWarning: Setting an item of incompatible dtype is deprecated and will raise in a future error of pandas. Value '0           0.0\n",
            "1         171.0\n",
            "2          55.0\n",
            "3          42.0\n",
            "4          98.0\n",
            "          ...  \n",
            "545098     74.0\n",
            "545099     34.0\n",
            "545100     63.0\n",
            "545101     35.0\n",
            "545102     50.0\n",
            "Name: travel_time_for_previous_section, Length: 545103, dtype: float64' has dtype incompatible with int64, please explicitly cast to a compatible dtype first.\n",
            "  df.iloc[:, 0:14] = df.iloc[:, 0:14].astype(float)\n",
            "/tmp/ipython-input-1390479708.py:12: FutureWarning: Setting an item of incompatible dtype is deprecated and will raise in a future error of pandas. Value '0         120.0\n",
            "1          45.0\n",
            "2          41.0\n",
            "3          94.0\n",
            "4          86.0\n",
            "          ...  \n",
            "545098     44.0\n",
            "545099     92.0\n",
            "545100     43.0\n",
            "545101     58.0\n",
            "545102    107.0\n",
            "Name: scheduled_travel_time, Length: 545103, dtype: float64' has dtype incompatible with int64, please explicitly cast to a compatible dtype first.\n",
            "  df.iloc[:, 0:14] = df.iloc[:, 0:14].astype(float)\n",
            "/tmp/ipython-input-1390479708.py:12: FutureWarning: Setting an item of incompatible dtype is deprecated and will raise in a future error of pandas. Value '0         100.0\n",
            "1         151.0\n",
            "2         185.0\n",
            "3         186.0\n",
            "4         202.0\n",
            "          ...  \n",
            "545098    341.0\n",
            "545099    344.0\n",
            "545100    330.0\n",
            "545101    339.0\n",
            "545102    331.0\n",
            "Name: upstream_stop_delay, Length: 545103, dtype: float64' has dtype incompatible with int64, please explicitly cast to a compatible dtype first.\n",
            "  df.iloc[:, 0:14] = df.iloc[:, 0:14].astype(float)\n",
            "/tmp/ipython-input-1390479708.py:12: FutureWarning: Setting an item of incompatible dtype is deprecated and will raise in a future error of pandas. Value '0         100.0\n",
            "1         100.0\n",
            "2         100.0\n",
            "3         100.0\n",
            "4         100.0\n",
            "          ...  \n",
            "545098     12.0\n",
            "545099     12.0\n",
            "545100     12.0\n",
            "545101     12.0\n",
            "545102     12.0\n",
            "Name: origin_delay, Length: 545103, dtype: float64' has dtype incompatible with int64, please explicitly cast to a compatible dtype first.\n",
            "  df.iloc[:, 0:14] = df.iloc[:, 0:14].astype(float)\n",
            "/tmp/ipython-input-1390479708.py:12: FutureWarning: Setting an item of incompatible dtype is deprecated and will raise in a future error of pandas. Value '0         160.0\n",
            "1         198.0\n",
            "2         189.0\n",
            "3         200.0\n",
            "4         256.0\n",
            "          ...  \n",
            "545098     47.0\n",
            "545099     68.0\n",
            "545100     69.0\n",
            "545101     79.0\n",
            "545102     42.0\n",
            "Name: previous_bus_delay, Length: 545103, dtype: float64' has dtype incompatible with int64, please explicitly cast to a compatible dtype first.\n",
            "  df.iloc[:, 0:14] = df.iloc[:, 0:14].astype(float)\n",
            "/tmp/ipython-input-1390479708.py:12: FutureWarning: Setting an item of incompatible dtype is deprecated and will raise in a future error of pandas. Value '0         216.0\n",
            "1          47.0\n",
            "2          32.0\n",
            "3          89.0\n",
            "4         123.0\n",
            "          ...  \n",
            "545098     26.0\n",
            "545099     93.0\n",
            "545100     27.0\n",
            "545101     54.0\n",
            "545102     33.0\n",
            "Name: previous_trip_travel_time, Length: 545103, dtype: float64' has dtype incompatible with int64, please explicitly cast to a compatible dtype first.\n",
            "  df.iloc[:, 0:14] = df.iloc[:, 0:14].astype(float)\n"
          ]
        }
      ],
      "source": [
        "import pandas as pd\n",
        "from sklearn.model_selection import train_test_split\n",
        "\n",
        "#-------------------------------------------------data preprocessing------------------------------------------------------------------\n",
        "\n",
        "url = 'https://raw.githubusercontent.com/zhenliangma/Applied-AI-in-Transportation/master/ProjectAssignmentData/Dataset-PT.csv'\n",
        "df = pd.read_csv(url, header = 1) #skip the first row and use the second as the header\n",
        "df.head(10)\n",
        "#df.shape\n",
        "#print(df.columns.tolist())\n",
        "\n",
        "df.iloc[:, 0:14] = df.iloc[:, 0:14].astype(float)\n",
        "df.iloc[:, 14:18] = df.iloc[:, 14:18].astype(str)\n",
        "df.iloc[:, 18:31] = df.iloc[:, 18:31].astype(int)\n",
        "df = df.iloc[:1000]\n",
        "\n",
        "\n"
      ]
    },
    {
      "cell_type": "markdown",
      "source": [
        "###Kolumner att droppa:\n",
        "- Identifiers: Calender_date, route_id, bus_id (innehåller inte nödvändig information\n",
        "- They who leak future knowledge: Arrival_delay (should be target)\n",
        "- Dummies: To avoid multi collineraty one of the examples should be dropped. factor(temperature)Normal, (weather)normal, weekend, off-peak. *these become the baseline?*\n"
      ],
      "metadata": {
        "id": "MbJR6p5u8wMS"
      }
    },
    {
      "cell_type": "code",
      "source": [
        "target = \"arrival_delay\"\n",
        "#Create multi-horizon shifted targets\n",
        "# Assuming stop_sequence roughly corresponds to future steps\n",
        "#this is a stop-ahead prediction\n",
        "df[\"delay_t+1_stop\"]  = df.groupby(\"bus_id\")[target].shift(-1)   # next stop\n",
        "df[\"delay_t+3_stop\"] = df.groupby(\"bus_id\")[target].shift(-3)   # ~3 stops ahead\n",
        "df[\"delay_t+6_stop\"] = df.groupby(\"bus_id\")[target].shift(-6)\n",
        "df[\"delay_t+12_stop\"] = df.groupby(\"bus_id\")[target].shift(-12)\n",
        "\n",
        "#Drop rows with missing target values (at trip ends)\n",
        "df = df.dropna(subset=[\"delay_t+1_stop\", \"delay_t+3_stop\", \"delay_t+6_stop\", \"delay_t+12_stop\"])\n",
        "\n",
        "\n",
        "\n"
      ],
      "metadata": {
        "id": "Sd5WV0j-8wls"
      },
      "execution_count": null,
      "outputs": []
    },
    {
      "cell_type": "markdown",
      "source": [
        "*Why is arrival_delay used and not stop sequence?*\n",
        "- *stop sequence is just an index telling which stop number in the trip. It only contains ordering, not delay information*\n",
        "- *the code says \"for stop i, the target is the arrival delay at stop i+1*"
      ],
      "metadata": {
        "id": "0biER2W_K6I_"
      }
    },
    {
      "cell_type": "markdown",
      "source": [
        "*this assumes each stop is ~5 minutes apart. If travel times vary a lot, then “t+5 min” might not really equal “next stop”*"
      ],
      "metadata": {
        "id": "36daCuPB_UUR"
      }
    },
    {
      "cell_type": "code",
      "source": [
        "bus_sample = df[df[\"bus_id\"] == df[\"bus_id\"].iloc[0]].sort_values(\"stop_sequence\")\n",
        "\n",
        "print(bus_sample[[\"stop_sequence\", \"arrival_delay\",\n",
        "                  \"delay_t+1_stop\", \"delay_t+3_stop\", \"delay_t+6_stop\", \"delay_t+12_stop\"]].head(20))"
      ],
      "metadata": {
        "id": "y9HZZRV6-8x4"
      },
      "execution_count": null,
      "outputs": []
    },
    {
      "cell_type": "code",
      "source": [
        "avg_travel = df[\"scheduled_travel_time\"].mean()\n",
        "print(\"Average travel time between stops (seconds):\", avg_travel)"
      ],
      "metadata": {
        "id": "G_dKTB4b_bol"
      },
      "execution_count": null,
      "outputs": []
    },
    {
      "cell_type": "code",
      "source": [
        "# Drop specific columns (Arrival_time, Stop_id, Bus_id, Line_id) from the DataFrame.\n",
        "df_model = df.drop(['Calendar_date', 'route_id'], axis=1)\n",
        "#df = pd.get_dummies(df.drop(['factor(weather)Normal', 'factor(temperature)Normal', 'factor(day_of_week)weekend', 'factor(time_of_day)Off-peak'], axis = 1)) #Dummies\n",
        "\n",
        "categorical_cols = [\n",
        "    'weather', 'temperature', 'day_of_week', 'time_of_day',\n",
        "    'factor(weather)Light_Rain', 'factor(weather)Light_Snow',\n",
        "    'factor(weather)Rain', 'factor(weather)Snow',\n",
        "    'factor(temperature)Cold', 'factor(temperature)Extra_cold',\n",
        "    'factor(day_of_week)weekday',\n",
        "    'factor(time_of_day)Afternoon_peak', 'factor(time_of_day)Morning_peak'\n",
        "]\n",
        "df_model = pd.get_dummies(df_model, columns=categorical_cols, drop_first=True)\n",
        "\n",
        "target = \"arrival_delay\"\n",
        "\n",
        "#create multi horizon shifted target using stop sequence for proper order\n",
        "df_model = df_model.sort_values(['bus_id', 'stop_sequence'])\n",
        "df_model[\"delay_1_stop\"]  = df_model.groupby(\"bus_id\")[target].shift(-1)   # next stop\n",
        "df_model[\"delay_3_stop\"] = df_model.groupby(\"bus_id\")[target].shift(-3)   # ~3 stops ahead\n",
        "df_model[\"delay_6_stop\"] = df_model.groupby(\"bus_id\")[target].shift(-6)   # ~6 stops ahead\n",
        "df_model[\"delay_12_stop\"] = df_model.groupby(\"bus_id\")[target].shift(-12)  # ~12 stops ahead\n",
        "\n",
        "#drop rows that hare missing future delays, like the end of trips\n",
        "df_model = df_model.dropna(subset=[\"delay_1_stop\", \"delay_3_stop\", \"delay_6_stop\", \"delay_12_stop\"])\n",
        "\n",
        "\n",
        "#Split into X (features) and y (multi-output)\n",
        "X = df_model.drop(['arrival_delay', \"delay_1_stop\", \"delay_3_stop\", \"delay_6_stop\", \"delay_12_stop\"], axis =1)\n",
        "y = df_model[[\"delay_1_stop\", \"delay_3_stop\", \"delay_6_stop\", \"delay_12_stop\"]]\n",
        "\n",
        "#X = X.astype(int)\n",
        "\n",
        "# splite the train and test data\n",
        "X_train, X_test, y_train, y_test = train_test_split(X, y, test_size=0.2, random_state=42)\n",
        "\n",
        "\n",
        "print(\"X shape:\", X.shape)\n",
        "print(\"y shape:\", y.shape)\n",
        "print(y.head())"
      ],
      "metadata": {
        "colab": {
          "base_uri": "https://localhost:8080/"
        },
        "id": "EgnMW4KexKYc",
        "outputId": "1c6b68fd-73b8-454e-b770-5e89a5d25154"
      },
      "execution_count": 8,
      "outputs": [
        {
          "output_type": "stream",
          "name": "stdout",
          "text": [
            "X shape: (783, 19)\n",
            "y shape: (783, 4)\n",
            "     delay_1_stop  delay_3_stop  delay_6_stop  delay_12_stop\n",
            "0           106.0         185.0         186.0          242.0\n",
            "162           3.0         116.0          99.0          183.0\n",
            "297         185.0          37.0          53.0           90.0\n",
            "1           116.0         186.0         202.0          260.0\n",
            "163          37.0          99.0         118.0          209.0\n"
          ]
        }
      ]
    },
    {
      "cell_type": "markdown",
      "source": [
        "- *if stop_sequence is a freature, the model might cheat by just learning that higher stop numbers mean later in the trip*"
      ],
      "metadata": {
        "id": "A5ZncJftLiHv"
      }
    },
    {
      "cell_type": "markdown",
      "source": [
        "##Multi-output with KNN"
      ],
      "metadata": {
        "id": "qKzfa4OQxx1D"
      }
    },
    {
      "cell_type": "code",
      "source": [
        "from sklearn.neighbors import KNeighborsRegressor\n",
        "from sklearn.metrics import mean_absolute_error\n",
        "\n",
        "model = KNeighborsRegressor()\n",
        "model.fit(X_train, y_train)\n",
        "\n",
        "# Predict on the test set\n",
        "y_pred = model.predict(X_test)\n",
        "\n",
        "\n",
        "#evaluate\n",
        "mae = mean_absolute_error(y_test, y_pred, multioutput='raw_values')\n",
        "for col, score in zip(y.columns, mae):\n",
        "    print(f\"MAE for {col}: {score:.2f}\")\n",
        "\n"
      ],
      "metadata": {
        "id": "CY37veBrMEkK",
        "colab": {
          "base_uri": "https://localhost:8080/"
        },
        "outputId": "c3a99514-d84d-4a3f-e558-b7857778e439"
      },
      "execution_count": 9,
      "outputs": [
        {
          "output_type": "stream",
          "name": "stdout",
          "text": [
            "MAE for delay_1_stop: 63.44\n",
            "MAE for delay_3_stop: 50.24\n",
            "MAE for delay_6_stop: 42.76\n",
            "MAE for delay_12_stop: 51.29\n"
          ]
        }
      ]
    },
    {
      "cell_type": "markdown",
      "source": [
        "MAE = the average absolute difference between the models predictions and the actual delay\n",
        "\n",
        "- MAE for delay_t+1_stop: 34.00\n",
        "- MAE for delay_t+3_stop: 46.54\n",
        "- MAE for delay_t+6_stop: 54.66\n",
        "- MAE for delay_t+12_stop: 56.01\n",
        "\n",
        "ANDra gången: MAE for delay_1_stop: 63.44\n",
        "MAE for delay_3_stop: 50.24\n",
        "MAE for delay_6_stop: 42.76\n",
        "MAE for delay_12_stop: 51.29\n",
        "\n",
        "\n",
        "This means that on average, the prediction for the next stop is off by 34 seconds.\n",
        "\n",
        "Interpretations:\n",
        "- Errors grow as the horizon length increases, which is expected since uncertainty accumulates further into the future\n"
      ],
      "metadata": {
        "id": "I8GGveLm7txn"
      }
    },
    {
      "cell_type": "code",
      "source": [],
      "metadata": {
        "id": "B8PdJIRtM02_"
      },
      "execution_count": null,
      "outputs": []
    },
    {
      "cell_type": "markdown",
      "source": [
        "#Visualization"
      ],
      "metadata": {
        "id": "GIPyAxR6NL1j"
      }
    },
    {
      "cell_type": "code",
      "source": [
        "import matplotlib.pyplot as plt\n",
        "\n",
        "# Define horizons\n",
        "horizons = [\"delay_t+1_stop\", \"delay_t+3_stop\", \"delay_t+6_stop\", \"delay_t+12_stop\"]\n",
        "n_horizons = len(horizons)\n",
        "\n",
        "plt.figure(figsize=(15, 10))\n",
        "\n",
        "for i, horizon in enumerate(horizons):\n",
        "    plt.subplot(2, 2, i+1)\n",
        "    plt.scatter(y_test[horizon], y_pred[:, i], alpha=0.5)\n",
        "    plt.plot([y_test[horizon].min(), y_test[horizon].max()],\n",
        "             [y_test[horizon].min(), y_test[horizon].max()],\n",
        "             color='red', linestyle='--')  # perfect prediction line\n",
        "    plt.xlabel(\"Actual Delay (s)\")\n",
        "    plt.ylabel(\"Predicted Delay (s)\")\n",
        "    plt.title(f\"Predicted vs Actual: {horizon}\")\n",
        "\n",
        "plt.tight_layout()\n",
        "plt.show()\n"
      ],
      "metadata": {
        "id": "dJLdxoBlNNhV"
      },
      "execution_count": null,
      "outputs": []
    },
    {
      "cell_type": "markdown",
      "source": [
        "- *points above the line = overestimations, below = underestimations*"
      ],
      "metadata": {
        "id": "jBzR7Y8HODZE"
      }
    },
    {
      "cell_type": "code",
      "source": [
        "import matplotlib.pyplot as plt\n",
        "\n",
        "# Select a single bus trip (bus_id and date) to visualize\n",
        "trip_id = 41344  # Example bus_id, adjust if needed\n",
        "trip_data = df[df['bus_id'] == trip_id].sort_values('stop_sequence')\n",
        "\n",
        "# Assuming y_pred is a NumPy array of predictions for this trip\n",
        "# Make sure predictions correspond to this trip\n",
        "predictions = y_pred[:len(trip_data), :]  # adjust indexing if needed\n",
        "\n",
        "# Horizons\n",
        "horizons = [\"delay_t+5\", \"delay_t+15\", \"delay_t+30\", \"delay_t+60\"]\n",
        "\n",
        "plt.figure(figsize=(12, 6))\n",
        "\n",
        "for i, horizon in enumerate(horizons):\n",
        "    plt.plot(trip_data['stop_sequence'], trip_data[horizon], marker='o', label=f'Actual {horizon}')\n",
        "    plt.plot(trip_data['stop_sequence'], predictions[:, i], marker='x', linestyle='--', label=f'Predicted {horizon}')\n",
        "\n",
        "plt.xlabel(\"Stop Sequence\")\n",
        "plt.ylabel(\"Arrival Delay (s)\")\n",
        "plt.title(f\"Delay Propagation Along Stops for Bus {trip_id}\")\n",
        "plt.legend()\n",
        "plt.grid(True)\n",
        "plt.show()\n"
      ],
      "metadata": {
        "id": "K5RdcJ71OTGY"
      },
      "execution_count": null,
      "outputs": []
    }
  ]
}