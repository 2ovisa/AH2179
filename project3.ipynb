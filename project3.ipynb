{
  "nbformat": 4,
  "nbformat_minor": 0,
  "metadata": {
    "colab": {
      "provenance": [],
      "authorship_tag": "ABX9TyOkP2mqqf8zZVYfFK4wVwUI",
      "include_colab_link": true
    },
    "kernelspec": {
      "name": "python3",
      "display_name": "Python 3"
    },
    "language_info": {
      "name": "python"
    }
  },
  "cells": [
    {
      "cell_type": "markdown",
      "metadata": {
        "id": "view-in-github",
        "colab_type": "text"
      },
      "source": [
        "<a href=\"https://colab.research.google.com/github/2ovisa/AH2179/blob/main/project3.ipynb\" target=\"_parent\"><img src=\"https://colab.research.google.com/assets/colab-badge.svg\" alt=\"Open In Colab\"/></a>"
      ]
    },
    {
      "cell_type": "markdown",
      "source": [
        "#Stop ahead prediction\n",
        "- intressant för resenärer att veta hur stor förseningen blir vid sitt stop\n",
        "- intressant för resenärer att veta hur stor förseningen är vid sin påstigande station"
      ],
      "metadata": {
        "id": "8zgv_111ILlV"
      }
    },
    {
      "cell_type": "code",
      "execution_count": 79,
      "metadata": {
        "id": "M6U2Qaqd29AC"
      },
      "outputs": [],
      "source": [
        "import pandas as pd\n",
        "from sklearn.model_selection import train_test_split\n",
        "\n",
        "#-------------------------------------------------data preprocessing------------------------------------------------------------------\n",
        "\n",
        "url = 'https://raw.githubusercontent.com/zhenliangma/Applied-AI-in-Transportation/master/ProjectAssignmentData/Dataset-PT.csv'\n",
        "df = pd.read_csv(url, header = 1)\n",
        "#print(df.head(10))\n",
        "#df.info()\n",
        "#print(df.columns.tolist())\n",
        "\n",
        "df = df.iloc[:1000]\n",
        "\n",
        "\n",
        "\n"
      ]
    },
    {
      "cell_type": "markdown",
      "source": [
        "###Kolumner att droppa:\n",
        "- Identifiers: Calender_date, route_id, bus_id (innehåller inte nödvändig information\n",
        "- They who leak future knowledge: Arrival_delay (should be target)\n",
        "- Dummies: To avoid multi collineraty one of the examples should be dropped. factor(temperature)Normal, (weather)normal, weekend, off-peak. *these become the baseline?*\n"
      ],
      "metadata": {
        "id": "MbJR6p5u8wMS"
      }
    },
    {
      "cell_type": "code",
      "source": [
        "#Create multi-horizon shifted targets\n",
        "# Assuming stop_sequence roughly corresponds to future steps\n",
        "#this is a stop-ahead prediction\n",
        "#df = df.sort_values([\"bus_id\", \"Calendar_date\", \"stop_sequence\"]).reset_index(drop=True)\n",
        "\n",
        "df = df.sort_values(['bus_id', 'Calendar_date', 'stop_sequence']).reset_index(drop=True)\n",
        "\n",
        "# Ny tur startar när stoppsekvens går tillbaka till 1\n",
        "df['new_trip'] = (df['stop_sequence'] == 1).astype(int)\n",
        "\n",
        "# Numrera turer per buss och datum\n",
        "df['trip_number'] = df.groupby(['bus_id','Calendar_date'])['new_trip'].cumsum()\n",
        "\n",
        "# Unikt körnings-ID\n",
        "df['unique_trip'] = (\n",
        "    df['bus_id'].astype(str) + '_' +\n",
        "    df['Calendar_date'].astype(str) + '_' +\n",
        "    df['trip_number'].astype(str)\n",
        ")\n",
        "\n",
        "\n",
        "\n",
        "\n",
        "df.groupby('unique_trip')['stop_sequence'].agg(['min','max','count']).tail(10)\n"
      ],
      "metadata": {
        "id": "Sd5WV0j-8wls",
        "colab": {
          "base_uri": "https://localhost:8080/",
          "height": 394
        },
        "outputId": "d5fd4664-5267-4196-eadc-9a81777f576d"
      },
      "execution_count": 80,
      "outputs": [
        {
          "output_type": "execute_result",
          "data": {
            "text/plain": [
              "                  min  max  count\n",
              "unique_trip                      \n",
              "44416_20220108_2    1   27     53\n",
              "44417_20220108_1    1   27     27\n",
              "44418_20220109_1    1    1      1\n",
              "44418_20220109_2    1    1      1\n",
              "44418_20220109_3    1   27     79\n",
              "45536_20220109_1    1    1      1\n",
              "45536_20220109_2    1   27     53\n",
              "45537_20220108_1    1    1      1\n",
              "45537_20220108_2    1    1      1\n",
              "45537_20220108_3    1   27     79"
            ],
            "text/html": [
              "\n",
              "  <div id=\"df-1144c894-eaa1-4ca0-a72f-b773f86ca1a0\" class=\"colab-df-container\">\n",
              "    <div>\n",
              "<style scoped>\n",
              "    .dataframe tbody tr th:only-of-type {\n",
              "        vertical-align: middle;\n",
              "    }\n",
              "\n",
              "    .dataframe tbody tr th {\n",
              "        vertical-align: top;\n",
              "    }\n",
              "\n",
              "    .dataframe thead th {\n",
              "        text-align: right;\n",
              "    }\n",
              "</style>\n",
              "<table border=\"1\" class=\"dataframe\">\n",
              "  <thead>\n",
              "    <tr style=\"text-align: right;\">\n",
              "      <th></th>\n",
              "      <th>min</th>\n",
              "      <th>max</th>\n",
              "      <th>count</th>\n",
              "    </tr>\n",
              "    <tr>\n",
              "      <th>unique_trip</th>\n",
              "      <th></th>\n",
              "      <th></th>\n",
              "      <th></th>\n",
              "    </tr>\n",
              "  </thead>\n",
              "  <tbody>\n",
              "    <tr>\n",
              "      <th>44416_20220108_2</th>\n",
              "      <td>1</td>\n",
              "      <td>27</td>\n",
              "      <td>53</td>\n",
              "    </tr>\n",
              "    <tr>\n",
              "      <th>44417_20220108_1</th>\n",
              "      <td>1</td>\n",
              "      <td>27</td>\n",
              "      <td>27</td>\n",
              "    </tr>\n",
              "    <tr>\n",
              "      <th>44418_20220109_1</th>\n",
              "      <td>1</td>\n",
              "      <td>1</td>\n",
              "      <td>1</td>\n",
              "    </tr>\n",
              "    <tr>\n",
              "      <th>44418_20220109_2</th>\n",
              "      <td>1</td>\n",
              "      <td>1</td>\n",
              "      <td>1</td>\n",
              "    </tr>\n",
              "    <tr>\n",
              "      <th>44418_20220109_3</th>\n",
              "      <td>1</td>\n",
              "      <td>27</td>\n",
              "      <td>79</td>\n",
              "    </tr>\n",
              "    <tr>\n",
              "      <th>45536_20220109_1</th>\n",
              "      <td>1</td>\n",
              "      <td>1</td>\n",
              "      <td>1</td>\n",
              "    </tr>\n",
              "    <tr>\n",
              "      <th>45536_20220109_2</th>\n",
              "      <td>1</td>\n",
              "      <td>27</td>\n",
              "      <td>53</td>\n",
              "    </tr>\n",
              "    <tr>\n",
              "      <th>45537_20220108_1</th>\n",
              "      <td>1</td>\n",
              "      <td>1</td>\n",
              "      <td>1</td>\n",
              "    </tr>\n",
              "    <tr>\n",
              "      <th>45537_20220108_2</th>\n",
              "      <td>1</td>\n",
              "      <td>1</td>\n",
              "      <td>1</td>\n",
              "    </tr>\n",
              "    <tr>\n",
              "      <th>45537_20220108_3</th>\n",
              "      <td>1</td>\n",
              "      <td>27</td>\n",
              "      <td>79</td>\n",
              "    </tr>\n",
              "  </tbody>\n",
              "</table>\n",
              "</div>\n",
              "    <div class=\"colab-df-buttons\">\n",
              "\n",
              "  <div class=\"colab-df-container\">\n",
              "    <button class=\"colab-df-convert\" onclick=\"convertToInteractive('df-1144c894-eaa1-4ca0-a72f-b773f86ca1a0')\"\n",
              "            title=\"Convert this dataframe to an interactive table.\"\n",
              "            style=\"display:none;\">\n",
              "\n",
              "  <svg xmlns=\"http://www.w3.org/2000/svg\" height=\"24px\" viewBox=\"0 -960 960 960\">\n",
              "    <path d=\"M120-120v-720h720v720H120Zm60-500h600v-160H180v160Zm220 220h160v-160H400v160Zm0 220h160v-160H400v160ZM180-400h160v-160H180v160Zm440 0h160v-160H620v160ZM180-180h160v-160H180v160Zm440 0h160v-160H620v160Z\"/>\n",
              "  </svg>\n",
              "    </button>\n",
              "\n",
              "  <style>\n",
              "    .colab-df-container {\n",
              "      display:flex;\n",
              "      gap: 12px;\n",
              "    }\n",
              "\n",
              "    .colab-df-convert {\n",
              "      background-color: #E8F0FE;\n",
              "      border: none;\n",
              "      border-radius: 50%;\n",
              "      cursor: pointer;\n",
              "      display: none;\n",
              "      fill: #1967D2;\n",
              "      height: 32px;\n",
              "      padding: 0 0 0 0;\n",
              "      width: 32px;\n",
              "    }\n",
              "\n",
              "    .colab-df-convert:hover {\n",
              "      background-color: #E2EBFA;\n",
              "      box-shadow: 0px 1px 2px rgba(60, 64, 67, 0.3), 0px 1px 3px 1px rgba(60, 64, 67, 0.15);\n",
              "      fill: #174EA6;\n",
              "    }\n",
              "\n",
              "    .colab-df-buttons div {\n",
              "      margin-bottom: 4px;\n",
              "    }\n",
              "\n",
              "    [theme=dark] .colab-df-convert {\n",
              "      background-color: #3B4455;\n",
              "      fill: #D2E3FC;\n",
              "    }\n",
              "\n",
              "    [theme=dark] .colab-df-convert:hover {\n",
              "      background-color: #434B5C;\n",
              "      box-shadow: 0px 1px 3px 1px rgba(0, 0, 0, 0.15);\n",
              "      filter: drop-shadow(0px 1px 2px rgba(0, 0, 0, 0.3));\n",
              "      fill: #FFFFFF;\n",
              "    }\n",
              "  </style>\n",
              "\n",
              "    <script>\n",
              "      const buttonEl =\n",
              "        document.querySelector('#df-1144c894-eaa1-4ca0-a72f-b773f86ca1a0 button.colab-df-convert');\n",
              "      buttonEl.style.display =\n",
              "        google.colab.kernel.accessAllowed ? 'block' : 'none';\n",
              "\n",
              "      async function convertToInteractive(key) {\n",
              "        const element = document.querySelector('#df-1144c894-eaa1-4ca0-a72f-b773f86ca1a0');\n",
              "        const dataTable =\n",
              "          await google.colab.kernel.invokeFunction('convertToInteractive',\n",
              "                                                    [key], {});\n",
              "        if (!dataTable) return;\n",
              "\n",
              "        const docLinkHtml = 'Like what you see? Visit the ' +\n",
              "          '<a target=\"_blank\" href=https://colab.research.google.com/notebooks/data_table.ipynb>data table notebook</a>'\n",
              "          + ' to learn more about interactive tables.';\n",
              "        element.innerHTML = '';\n",
              "        dataTable['output_type'] = 'display_data';\n",
              "        await google.colab.output.renderOutput(dataTable, element);\n",
              "        const docLink = document.createElement('div');\n",
              "        docLink.innerHTML = docLinkHtml;\n",
              "        element.appendChild(docLink);\n",
              "      }\n",
              "    </script>\n",
              "  </div>\n",
              "\n",
              "\n",
              "    <div id=\"df-7283a4ff-b327-4fd2-ac5c-2e6dcf161ff3\">\n",
              "      <button class=\"colab-df-quickchart\" onclick=\"quickchart('df-7283a4ff-b327-4fd2-ac5c-2e6dcf161ff3')\"\n",
              "                title=\"Suggest charts\"\n",
              "                style=\"display:none;\">\n",
              "\n",
              "<svg xmlns=\"http://www.w3.org/2000/svg\" height=\"24px\"viewBox=\"0 0 24 24\"\n",
              "     width=\"24px\">\n",
              "    <g>\n",
              "        <path d=\"M19 3H5c-1.1 0-2 .9-2 2v14c0 1.1.9 2 2 2h14c1.1 0 2-.9 2-2V5c0-1.1-.9-2-2-2zM9 17H7v-7h2v7zm4 0h-2V7h2v10zm4 0h-2v-4h2v4z\"/>\n",
              "    </g>\n",
              "</svg>\n",
              "      </button>\n",
              "\n",
              "<style>\n",
              "  .colab-df-quickchart {\n",
              "      --bg-color: #E8F0FE;\n",
              "      --fill-color: #1967D2;\n",
              "      --hover-bg-color: #E2EBFA;\n",
              "      --hover-fill-color: #174EA6;\n",
              "      --disabled-fill-color: #AAA;\n",
              "      --disabled-bg-color: #DDD;\n",
              "  }\n",
              "\n",
              "  [theme=dark] .colab-df-quickchart {\n",
              "      --bg-color: #3B4455;\n",
              "      --fill-color: #D2E3FC;\n",
              "      --hover-bg-color: #434B5C;\n",
              "      --hover-fill-color: #FFFFFF;\n",
              "      --disabled-bg-color: #3B4455;\n",
              "      --disabled-fill-color: #666;\n",
              "  }\n",
              "\n",
              "  .colab-df-quickchart {\n",
              "    background-color: var(--bg-color);\n",
              "    border: none;\n",
              "    border-radius: 50%;\n",
              "    cursor: pointer;\n",
              "    display: none;\n",
              "    fill: var(--fill-color);\n",
              "    height: 32px;\n",
              "    padding: 0;\n",
              "    width: 32px;\n",
              "  }\n",
              "\n",
              "  .colab-df-quickchart:hover {\n",
              "    background-color: var(--hover-bg-color);\n",
              "    box-shadow: 0 1px 2px rgba(60, 64, 67, 0.3), 0 1px 3px 1px rgba(60, 64, 67, 0.15);\n",
              "    fill: var(--button-hover-fill-color);\n",
              "  }\n",
              "\n",
              "  .colab-df-quickchart-complete:disabled,\n",
              "  .colab-df-quickchart-complete:disabled:hover {\n",
              "    background-color: var(--disabled-bg-color);\n",
              "    fill: var(--disabled-fill-color);\n",
              "    box-shadow: none;\n",
              "  }\n",
              "\n",
              "  .colab-df-spinner {\n",
              "    border: 2px solid var(--fill-color);\n",
              "    border-color: transparent;\n",
              "    border-bottom-color: var(--fill-color);\n",
              "    animation:\n",
              "      spin 1s steps(1) infinite;\n",
              "  }\n",
              "\n",
              "  @keyframes spin {\n",
              "    0% {\n",
              "      border-color: transparent;\n",
              "      border-bottom-color: var(--fill-color);\n",
              "      border-left-color: var(--fill-color);\n",
              "    }\n",
              "    20% {\n",
              "      border-color: transparent;\n",
              "      border-left-color: var(--fill-color);\n",
              "      border-top-color: var(--fill-color);\n",
              "    }\n",
              "    30% {\n",
              "      border-color: transparent;\n",
              "      border-left-color: var(--fill-color);\n",
              "      border-top-color: var(--fill-color);\n",
              "      border-right-color: var(--fill-color);\n",
              "    }\n",
              "    40% {\n",
              "      border-color: transparent;\n",
              "      border-right-color: var(--fill-color);\n",
              "      border-top-color: var(--fill-color);\n",
              "    }\n",
              "    60% {\n",
              "      border-color: transparent;\n",
              "      border-right-color: var(--fill-color);\n",
              "    }\n",
              "    80% {\n",
              "      border-color: transparent;\n",
              "      border-right-color: var(--fill-color);\n",
              "      border-bottom-color: var(--fill-color);\n",
              "    }\n",
              "    90% {\n",
              "      border-color: transparent;\n",
              "      border-bottom-color: var(--fill-color);\n",
              "    }\n",
              "  }\n",
              "</style>\n",
              "\n",
              "      <script>\n",
              "        async function quickchart(key) {\n",
              "          const quickchartButtonEl =\n",
              "            document.querySelector('#' + key + ' button');\n",
              "          quickchartButtonEl.disabled = true;  // To prevent multiple clicks.\n",
              "          quickchartButtonEl.classList.add('colab-df-spinner');\n",
              "          try {\n",
              "            const charts = await google.colab.kernel.invokeFunction(\n",
              "                'suggestCharts', [key], {});\n",
              "          } catch (error) {\n",
              "            console.error('Error during call to suggestCharts:', error);\n",
              "          }\n",
              "          quickchartButtonEl.classList.remove('colab-df-spinner');\n",
              "          quickchartButtonEl.classList.add('colab-df-quickchart-complete');\n",
              "        }\n",
              "        (() => {\n",
              "          let quickchartButtonEl =\n",
              "            document.querySelector('#df-7283a4ff-b327-4fd2-ac5c-2e6dcf161ff3 button');\n",
              "          quickchartButtonEl.style.display =\n",
              "            google.colab.kernel.accessAllowed ? 'block' : 'none';\n",
              "        })();\n",
              "      </script>\n",
              "    </div>\n",
              "\n",
              "    </div>\n",
              "  </div>\n"
            ],
            "application/vnd.google.colaboratory.intrinsic+json": {
              "type": "dataframe",
              "summary": "{\n  \"name\": \"df\",\n  \"rows\": 10,\n  \"fields\": [\n    {\n      \"column\": \"unique_trip\",\n      \"properties\": {\n        \"dtype\": \"string\",\n        \"num_unique_values\": 10,\n        \"samples\": [\n          \"45537_20220108_2\",\n          \"44417_20220108_1\",\n          \"45536_20220109_1\"\n        ],\n        \"semantic_type\": \"\",\n        \"description\": \"\"\n      }\n    },\n    {\n      \"column\": \"min\",\n      \"properties\": {\n        \"dtype\": \"number\",\n        \"std\": 0,\n        \"min\": 1,\n        \"max\": 1,\n        \"num_unique_values\": 1,\n        \"samples\": [\n          1\n        ],\n        \"semantic_type\": \"\",\n        \"description\": \"\"\n      }\n    },\n    {\n      \"column\": \"max\",\n      \"properties\": {\n        \"dtype\": \"number\",\n        \"std\": 13,\n        \"min\": 1,\n        \"max\": 27,\n        \"num_unique_values\": 2,\n        \"samples\": [\n          1\n        ],\n        \"semantic_type\": \"\",\n        \"description\": \"\"\n      }\n    },\n    {\n      \"column\": \"count\",\n      \"properties\": {\n        \"dtype\": \"number\",\n        \"std\": 33,\n        \"min\": 1,\n        \"max\": 79,\n        \"num_unique_values\": 4,\n        \"samples\": [\n          27\n        ],\n        \"semantic_type\": \"\",\n        \"description\": \"\"\n      }\n    }\n  ]\n}"
            }
          },
          "metadata": {},
          "execution_count": 80
        }
      ]
    },
    {
      "cell_type": "code",
      "source": [
        "\n",
        "df = df.sort_values(['unique_trip', 'stop_sequence'])\n",
        "\n",
        "\n",
        "for h in [1,3,6,12]:\n",
        "  df[f'arrival_delay_t+{h}'] = df.groupby('unique_trip')['arrival_delay'].shift(-h)\n",
        "\n",
        "#Drop rows with missing target values (at trip ends)\n",
        "#\"df = df.dropna(subset=[f'arrival_delay_t+{h}' for h in [1, 3, 6, 12]])\n",
        "\n",
        "\n",
        "#target = \"arrival_delay\"\n",
        "##Create multi-horizon shifted targets\n",
        "## Assuming stop_sequence roughly corresponds to future steps\n",
        "##this is a stop-ahead prediction\n",
        "#df[\"delay_1_stop\"]  = df.groupby(\"stop_sequence\")[target].shift(-1)   # next stop\n",
        "#df[\"delay_3_stop\"] = df.groupby(\"stop_sequence\")[target].shift(-3)   # ~3 stops ahead\n",
        "#df[\"delay_6_stop\"] = df.groupby(\"stop_sequence\")[target].shift(-6)\n",
        "#df[\"delay_12_stop\"] = df.groupby(\"stop_sequence\")[target].shift(-12)\n",
        "##Drop rows with missing target values (at trip ends)\n",
        "#df = df.dropna(subset=[\"delay_1_stop\", \"delay_3_stop\", \"delay_6_stop\", \"delay_12_stop\"])\n",
        "\n",
        "\n"
      ],
      "metadata": {
        "id": "_6kGeFf5j7AS"
      },
      "execution_count": 81,
      "outputs": []
    },
    {
      "cell_type": "code",
      "source": [
        "trip_id = df.groupby('unique_trip')['stop_sequence'].count().idxmax()\n",
        "df_check = df[df['unique_trip']==trip_id][\n",
        "    ['stop_sequence','arrival_delay',\n",
        "     'arrival_delay_t+1','arrival_delay_t+3',\n",
        "     'arrival_delay_t+6','arrival_delay_t+12']\n",
        "]\n",
        "print(df_check.to_string(index=False))\n"
      ],
      "metadata": {
        "id": "4ZtIdIfrkCPP"
      },
      "execution_count": null,
      "outputs": []
    },
    {
      "cell_type": "code",
      "source": [
        "# hur många rader och stopp per unique_trip?\n",
        "df.groupby('unique_trip')['stop_sequence'].agg(['min','max','count']).sort_values('count')"
      ],
      "metadata": {
        "id": "TeMz0CQ8jPo3"
      },
      "execution_count": null,
      "outputs": []
    },
    {
      "cell_type": "markdown",
      "source": [
        "*Why is arrival_delay used and not stop sequence?*\n",
        "- *stop sequence is just an index telling which stop number in the trip. It only contains ordering, not delay information*\n",
        "- *the code says \"for stop i, the target is the arrival delay at stop i+1*"
      ],
      "metadata": {
        "id": "0biER2W_K6I_"
      }
    },
    {
      "cell_type": "markdown",
      "source": [
        "*this assumes each stop is ~5 minutes apart. If travel times vary a lot, then “t+5 min” might not really equal “next stop”*"
      ],
      "metadata": {
        "id": "36daCuPB_UUR"
      }
    },
    {
      "cell_type": "code",
      "source": [
        "# Drop specific columns (Arrival_time, Stop_id, Bus_id, Line_id) from the DataFrame.\n",
        "df = df.drop(['Calendar_date', 'bus_id', 'route_id', 'stop_sequence'], axis=1)\n",
        "df = pd.get_dummies(df.drop(['factor(weather)Normal', 'factor(temperature)Normal', 'factor(day_of_week)weekend', 'factor(time_of_day)Off-peak'], axis = 1)) #Dummies\n",
        "\n",
        "#Split into X (features) and y (multi-output)\n",
        "targets = ['arrival_delay', \"arrival_delay_t+1\", \"arrival_delay_t+3\", \"arrival_delay_t+6\", \"arrival_delay_t+12\"]\n",
        "df_h = df[df[targets].notna().all(axis=1)] # Ensure all target values are not NaN\n",
        "X = df_h.drop(targets, axis =1) # Drop targets and unique_trip from features\n",
        "y = df_h[[\"arrival_delay_t+1\", \"arrival_delay_t+3\", \"arrival_delay_t+6\", \"arrival_delay_t+12\"]] # Select only the shifted targets for y\n",
        "\n",
        "\n",
        "#X = X.astype(int)\n",
        "\n",
        "# splite the train and test data\n",
        "X_train, X_test, y_train, y_test = train_test_split(X, y, test_size=0.2, random_state=42)\n",
        "\n",
        "\n",
        "print(\"X shape:\", X.shape)\n",
        "print(\"y shape:\", y.shape)\n",
        "print(y.head())"
      ],
      "metadata": {
        "colab": {
          "base_uri": "https://localhost:8080/"
        },
        "id": "EgnMW4KexKYc",
        "outputId": "86008499-ea5f-457b-e73c-483be9ec8486"
      },
      "execution_count": 82,
      "outputs": [
        {
          "output_type": "stream",
          "name": "stdout",
          "text": [
            "X shape: (764, 64)\n",
            "y shape: (764, 4)\n",
            "   arrival_delay_t+1  arrival_delay_t+3  arrival_delay_t+6  arrival_delay_t+12\n",
            "2              185.0               37.0               53.0                90.0\n",
            "3              116.0              186.0              202.0               260.0\n",
            "4               37.0               99.0              118.0               209.0\n",
            "5              186.0               53.0               43.0                95.0\n",
            "6               99.0              202.0              242.0               278.0\n"
          ]
        }
      ]
    },
    {
      "cell_type": "markdown",
      "source": [
        "- *if stop_sequence is a freature, the model might cheat by just learning that higher stop numbers mean later in the trip*"
      ],
      "metadata": {
        "id": "A5ZncJftLiHv"
      }
    },
    {
      "cell_type": "code",
      "source": [
        "%matplotlib inline\n",
        "import matplotlib.pyplot as plt\n",
        "import seaborn as sns\n",
        "\n",
        "targets = ['arrival_delay', \"arrival_delay_t+1\", \"arrival_delay_t+3\", \"arrival_delay_t+6\", \"arrival_delay_t+12\"]\n",
        "\n",
        "\n",
        "#filtrera bort rader utan target\n",
        "df_h = df[df[targets].notna()]\n",
        "X = df_h.drop(targets, axis=1)\n",
        "y = df_h[targets]\n",
        "# List of target columns\n",
        "\n",
        "# Create subplots (5 rows, 1 column)\n",
        "fig, axes = plt.subplots(len(targets), 1, figsize=(8, 20))\n",
        "\n",
        "# Loop through targets and plot each on its own axis\n",
        "for i, col in enumerate(targets):\n",
        "    sns.histplot(df[col], bins=50, kde=True, ax=axes[i])\n",
        "    axes[i].set_title(f\"Distribution of {col}\")\n",
        "\n",
        "plt.tight_layout()\n",
        "plt.show()\n",
        "\n",
        "#sns.histplot(x=df['arrival_delay'])\n",
        "#sns.histplot(x=df['delay_1_stop'])\n",
        "#sns.histplot(x=df['delay_3_stop'])\n",
        "#sns.histplot(x=df['delay_6_stop'])\n",
        "#sns.histplot(x=df['delay_12_stop'])"
      ],
      "metadata": {
        "id": "xu_F-6LFHZCK"
      },
      "execution_count": null,
      "outputs": []
    },
    {
      "cell_type": "markdown",
      "source": [
        "##Multi-output with KNN"
      ],
      "metadata": {
        "id": "qKzfa4OQxx1D"
      }
    },
    {
      "cell_type": "code",
      "source": [
        "X_train.dtypes.value_counts()"
      ],
      "metadata": {
        "id": "1czhWTjbztPY"
      },
      "execution_count": null,
      "outputs": []
    },
    {
      "cell_type": "code",
      "source": [
        "from sklearn.neighbors import KNeighborsRegressor\n",
        "from sklearn.metrics import mean_absolute_error\n",
        "\n",
        "\n",
        "model = KNeighborsRegressor()\n",
        "model.fit(X_train, y_train)\n",
        "\n",
        "# Predict on the test set\n",
        "y_pred = model.predict(X_test)\n",
        "\n",
        "#evaluate\n",
        "mae = mean_absolute_error(y_test, y_pred, multioutput='raw_values')\n",
        "for col, score in zip(y.columns, mae):\n",
        "    print(f\"MAE for {col}: {score:.2f}\")\n",
        "\n"
      ],
      "metadata": {
        "id": "CY37veBrMEkK",
        "colab": {
          "base_uri": "https://localhost:8080/"
        },
        "outputId": "c8fea442-f3de-4ba0-907d-59d681b885d0"
      },
      "execution_count": 83,
      "outputs": [
        {
          "output_type": "stream",
          "name": "stdout",
          "text": [
            "MAE for arrival_delay_t+1: 77.05\n",
            "MAE for arrival_delay_t+3: 56.42\n",
            "MAE for arrival_delay_t+6: 37.34\n",
            "MAE for arrival_delay_t+12: 51.00\n"
          ]
        }
      ]
    },
    {
      "cell_type": "markdown",
      "source": [
        "MAE = the average absolute difference between the models predictions and the actual delay\n",
        "\n",
        "- MAE for delay_t+1_stop: 34.00\n",
        "- MAE for delay_t+3_stop: 46.54\n",
        "- MAE for delay_t+6_stop: 54.66\n",
        "- MAE for delay_t+12_stop: 56.01\n",
        "\n",
        "This means that on average, the prediction for the next stop is off by 34 seconds.\n",
        "\n",
        "Interpretations:\n",
        "- Errors grow as the horizon length increases, which is expected since uncertainty accumulates further into the future\n"
      ],
      "metadata": {
        "id": "I8GGveLm7txn"
      }
    },
    {
      "cell_type": "code",
      "source": [],
      "metadata": {
        "id": "B8PdJIRtM02_"
      },
      "execution_count": null,
      "outputs": []
    },
    {
      "cell_type": "markdown",
      "source": [
        "#Visualization"
      ],
      "metadata": {
        "id": "GIPyAxR6NL1j"
      }
    },
    {
      "cell_type": "code",
      "source": [
        "import matplotlib.pyplot as plt\n",
        "\n",
        "# Define horizons\n",
        "horizons = [\"delay_1_stop\", \"delay_3_stop\", \"delay_6_stop\", \"delay_12_stop\"]\n",
        "n_horizons = len(horizons)\n",
        "\n",
        "plt.figure(figsize=(15, 10))\n",
        "\n",
        "for i, horizon in enumerate(horizons):\n",
        "    plt.subplot(2, 2, i+1)\n",
        "    plt.scatter(y_test[horizon], y_pred[:, i], alpha=0.5)\n",
        "    plt.plot([y_test[horizon].min(), y_test[horizon].max()],\n",
        "             [y_test[horizon].min(), y_test[horizon].max()],\n",
        "             color='red', linestyle='--')  # perfect prediction line\n",
        "    plt.xlabel(\"Actual Delay (s)\")\n",
        "    plt.ylabel(\"Predicted Delay (s)\")\n",
        "    plt.title(f\"Predicted vs Actual: {horizon}\")\n",
        "\n",
        "plt.tight_layout()\n",
        "plt.show()\n"
      ],
      "metadata": {
        "id": "dJLdxoBlNNhV"
      },
      "execution_count": null,
      "outputs": []
    },
    {
      "cell_type": "markdown",
      "source": [
        "- *points above the line = overestimations, below = underestimations*"
      ],
      "metadata": {
        "id": "jBzR7Y8HODZE"
      }
    },
    {
      "cell_type": "code",
      "source": [
        "import matplotlib.pyplot as plt\n",
        "\n",
        "# Select a single bus trip (bus_id and date) to visualize\n",
        "trip_id = 41344  # Example bus_id, adjust if needed\n",
        "trip_data = df[df['bus_id'] == trip_id].sort_values('stop_sequence')\n",
        "\n",
        "# Assuming y_pred is a NumPy array of predictions for this trip\n",
        "# Make sure predictions correspond to this trip\n",
        "predictions = y_pred[:len(trip_data), :]  # adjust indexing if needed\n",
        "\n",
        "# Horizons\n",
        "horizons = [\"delay_t+5\", \"delay_t+15\", \"delay_t+30\", \"delay_t+60\"]\n",
        "\n",
        "plt.figure(figsize=(12, 6))\n",
        "\n",
        "for i, horizon in enumerate(horizons):\n",
        "    plt.plot(trip_data['stop_sequence'], trip_data[horizon], marker='o', label=f'Actual {horizon}')\n",
        "    plt.plot(trip_data['stop_sequence'], predictions[:, i], marker='x', linestyle='--', label=f'Predicted {horizon}')\n",
        "\n",
        "plt.xlabel(\"Stop Sequence\")\n",
        "plt.ylabel(\"Arrival Delay (s)\")\n",
        "plt.title(f\"Delay Propagation Along Stops for Bus {trip_id}\")\n",
        "plt.legend()\n",
        "plt.grid(True)\n",
        "plt.show()\n"
      ],
      "metadata": {
        "id": "K5RdcJ71OTGY"
      },
      "execution_count": null,
      "outputs": []
    }
  ]
}